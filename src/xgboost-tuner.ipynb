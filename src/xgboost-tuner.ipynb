{
 "cells": [
  {
   "cell_type": "markdown",
   "id": "4e82fa2f",
   "metadata": {},
   "source": [
    "# <center>XGBoost hyperparameter tuning</center>"
   ]
  },
  {
   "cell_type": "markdown",
   "id": "33c9ca9c",
   "metadata": {},
   "source": [
    "# 1. Choosing and importing right libraries\n",
    "[Optuna](https://optuna.org/) is one of the best and easiest to use libraries for optimization. Its' API allows for great flexibility when it comes to creating, stopping and editing trials making it a very important tool for Kaggle contests. Since Optuna has a specialized API for XGBoost models, we will use it to speed up the search."
   ]
  },
  {
   "cell_type": "code",
   "execution_count": 1,
   "id": "e8c65972",
   "metadata": {
    "editable": false,
    "execution": {
     "iopub.execute_input": "2024-08-19T17:32:29.745332Z",
     "iopub.status.busy": "2024-08-19T17:32:29.744253Z",
     "iopub.status.idle": "2024-08-19T17:32:44.185496Z",
     "shell.execute_reply": "2024-08-19T17:32:44.183824Z"
    },
    "papermill": {
     "duration": 14.451789,
     "end_time": "2024-08-19T17:32:44.188408",
     "exception": false,
     "start_time": "2024-08-19T17:32:29.736619",
     "status": "completed"
    },
    "tags": []
   },
   "outputs": [
    {
     "name": "stdout",
     "output_type": "stream",
     "text": [
      "Collecting optuna-integration\r\n",
      "  Downloading optuna_integration-3.6.0-py3-none-any.whl.metadata (10 kB)\r\n",
      "Requirement already satisfied: optuna in /opt/conda/lib/python3.10/site-packages (from optuna-integration) (3.6.1)\r\n",
      "Requirement already satisfied: alembic>=1.5.0 in /opt/conda/lib/python3.10/site-packages (from optuna->optuna-integration) (1.13.2)\r\n",
      "Requirement already satisfied: colorlog in /opt/conda/lib/python3.10/site-packages (from optuna->optuna-integration) (6.8.2)\r\n",
      "Requirement already satisfied: numpy in /opt/conda/lib/python3.10/site-packages (from optuna->optuna-integration) (1.26.4)\r\n",
      "Requirement already satisfied: packaging>=20.0 in /opt/conda/lib/python3.10/site-packages (from optuna->optuna-integration) (21.3)\r\n",
      "Requirement already satisfied: sqlalchemy>=1.3.0 in /opt/conda/lib/python3.10/site-packages (from optuna->optuna-integration) (2.0.25)\r\n",
      "Requirement already satisfied: tqdm in /opt/conda/lib/python3.10/site-packages (from optuna->optuna-integration) (4.66.4)\r\n",
      "Requirement already satisfied: PyYAML in /opt/conda/lib/python3.10/site-packages (from optuna->optuna-integration) (6.0.1)\r\n",
      "Requirement already satisfied: Mako in /opt/conda/lib/python3.10/site-packages (from alembic>=1.5.0->optuna->optuna-integration) (1.3.5)\r\n",
      "Requirement already satisfied: typing-extensions>=4 in /opt/conda/lib/python3.10/site-packages (from alembic>=1.5.0->optuna->optuna-integration) (4.9.0)\r\n",
      "Requirement already satisfied: pyparsing!=3.0.5,>=2.0.2 in /opt/conda/lib/python3.10/site-packages (from packaging>=20.0->optuna->optuna-integration) (3.1.1)\r\n",
      "Requirement already satisfied: greenlet!=0.4.17 in /opt/conda/lib/python3.10/site-packages (from sqlalchemy>=1.3.0->optuna->optuna-integration) (3.0.3)\r\n",
      "Requirement already satisfied: MarkupSafe>=0.9.2 in /opt/conda/lib/python3.10/site-packages (from Mako->alembic>=1.5.0->optuna->optuna-integration) (2.1.3)\r\n",
      "Downloading optuna_integration-3.6.0-py3-none-any.whl (93 kB)\r\n",
      "\u001b[2K   \u001b[90m━━━━━━━━━━━━━━━━━━━━━━━━━━━━━━━━━━━━━━━━\u001b[0m \u001b[32m93.4/93.4 kB\u001b[0m \u001b[31m3.4 MB/s\u001b[0m eta \u001b[36m0:00:00\u001b[0m\r\n",
      "\u001b[?25hInstalling collected packages: optuna-integration\r\n",
      "Successfully installed optuna-integration-3.6.0\r\n"
     ]
    }
   ],
   "source": [
    "!pip install optuna-integration"
   ]
  },
  {
   "cell_type": "code",
   "execution_count": 2,
   "id": "f655c888",
   "metadata": {
    "editable": false,
    "execution": {
     "iopub.execute_input": "2024-08-19T17:32:44.202954Z",
     "iopub.status.busy": "2024-08-19T17:32:44.202547Z",
     "iopub.status.idle": "2024-08-19T17:32:47.306147Z",
     "shell.execute_reply": "2024-08-19T17:32:47.305050Z"
    },
    "papermill": {
     "duration": 3.113935,
     "end_time": "2024-08-19T17:32:47.308743",
     "exception": false,
     "start_time": "2024-08-19T17:32:44.194808",
     "status": "completed"
    },
    "tags": []
   },
   "outputs": [],
   "source": [
    "import warnings\n",
    "import importlib  \n",
    "\n",
    "warnings.filterwarnings(\"ignore\", category=FutureWarning, module=\"seaborn\")\n",
    "\n",
    "import pandas as pd\n",
    "pd.set_option('display.float_format', lambda x: '%.3f' % x)\n",
    "\n",
    "import optuna\n",
    "opt_int = importlib.import_module(\"optuna_integration\")\n",
    "\n",
    "import pickle\n",
    "\n",
    "import numpy as np"
   ]
  },
  {
   "cell_type": "code",
   "execution_count": 3,
   "id": "8b28c923",
   "metadata": {
    "editable": false,
    "execution": {
     "iopub.execute_input": "2024-08-19T17:32:47.323200Z",
     "iopub.status.busy": "2024-08-19T17:32:47.322175Z",
     "iopub.status.idle": "2024-08-19T17:32:47.327548Z",
     "shell.execute_reply": "2024-08-19T17:32:47.326232Z"
    },
    "papermill": {
     "duration": 0.014928,
     "end_time": "2024-08-19T17:32:47.329801",
     "exception": false,
     "start_time": "2024-08-19T17:32:47.314873",
     "status": "completed"
    },
    "tags": []
   },
   "outputs": [],
   "source": [
    "RAND = 42"
   ]
  },
  {
   "cell_type": "code",
   "execution_count": 4,
   "id": "8044f4df",
   "metadata": {
    "editable": false,
    "execution": {
     "iopub.execute_input": "2024-08-19T17:32:47.344037Z",
     "iopub.status.busy": "2024-08-19T17:32:47.343043Z",
     "iopub.status.idle": "2024-08-19T17:32:47.349485Z",
     "shell.execute_reply": "2024-08-19T17:32:47.348384Z"
    },
    "papermill": {
     "duration": 0.015937,
     "end_time": "2024-08-19T17:32:47.351899",
     "exception": false,
     "start_time": "2024-08-19T17:32:47.335962",
     "status": "completed"
    },
    "tags": []
   },
   "outputs": [
    {
     "name": "stdout",
     "output_type": "stream",
     "text": [
      "Not found\n"
     ]
    }
   ],
   "source": [
    "import shutil\n",
    "src_path = r\"/kaggle/input/ps4e8-xgbclassifier-tuner/xgb.db\"\n",
    "dst_path = r\"/kaggle/working/xgb.db\"\n",
    "\n",
    "try:\n",
    "    shutil.copy(src_path, dst_path)\n",
    "    print('Copied')\n",
    "except FileNotFoundError:\n",
    "    print(\"Not found\")"
   ]
  },
  {
   "cell_type": "markdown",
   "id": "54040ac5",
   "metadata": {},
   "source": [
    "# 2. Preparing data for XGBoost model\n",
    "We will use XGBoost native API as it allows for better flexibility with Callbacks and early stopping which are crucial for the development. In order to do that, we need to prepare our data and turn it into DMatrix with categorical features."
   ]
  },
  {
   "cell_type": "code",
   "execution_count": 5,
   "id": "946a4673",
   "metadata": {
    "editable": false,
    "execution": {
     "iopub.execute_input": "2024-08-19T17:32:47.366170Z",
     "iopub.status.busy": "2024-08-19T17:32:47.365790Z",
     "iopub.status.idle": "2024-08-19T17:32:51.826713Z",
     "shell.execute_reply": "2024-08-19T17:32:51.825259Z"
    },
    "papermill": {
     "duration": 4.471066,
     "end_time": "2024-08-19T17:32:51.829203",
     "exception": false,
     "start_time": "2024-08-19T17:32:47.358137",
     "status": "completed"
    },
    "tags": []
   },
   "outputs": [
    {
     "data": {
      "text/html": [
       "<div>\n",
       "<style scoped>\n",
       "    .dataframe tbody tr th:only-of-type {\n",
       "        vertical-align: middle;\n",
       "    }\n",
       "\n",
       "    .dataframe tbody tr th {\n",
       "        vertical-align: top;\n",
       "    }\n",
       "\n",
       "    .dataframe thead th {\n",
       "        text-align: right;\n",
       "    }\n",
       "</style>\n",
       "<table border=\"1\" class=\"dataframe\">\n",
       "  <thead>\n",
       "    <tr style=\"text-align: right;\">\n",
       "      <th></th>\n",
       "      <th>cap-diameter</th>\n",
       "      <th>cap-shape</th>\n",
       "      <th>cap-surface</th>\n",
       "      <th>cap-color</th>\n",
       "      <th>does-bruise-or-bleed</th>\n",
       "      <th>gill-attachment</th>\n",
       "      <th>gill-spacing</th>\n",
       "      <th>gill-color</th>\n",
       "      <th>stem-height</th>\n",
       "      <th>stem-width</th>\n",
       "      <th>stem-root</th>\n",
       "      <th>stem-surface</th>\n",
       "      <th>stem-color</th>\n",
       "      <th>veil-type</th>\n",
       "      <th>veil-color</th>\n",
       "      <th>has-ring</th>\n",
       "      <th>ring-type</th>\n",
       "      <th>spore-print-color</th>\n",
       "      <th>habitat</th>\n",
       "      <th>season</th>\n",
       "    </tr>\n",
       "    <tr>\n",
       "      <th>id</th>\n",
       "      <th></th>\n",
       "      <th></th>\n",
       "      <th></th>\n",
       "      <th></th>\n",
       "      <th></th>\n",
       "      <th></th>\n",
       "      <th></th>\n",
       "      <th></th>\n",
       "      <th></th>\n",
       "      <th></th>\n",
       "      <th></th>\n",
       "      <th></th>\n",
       "      <th></th>\n",
       "      <th></th>\n",
       "      <th></th>\n",
       "      <th></th>\n",
       "      <th></th>\n",
       "      <th></th>\n",
       "      <th></th>\n",
       "      <th></th>\n",
       "    </tr>\n",
       "  </thead>\n",
       "  <tbody>\n",
       "    <tr>\n",
       "      <th>2413129</th>\n",
       "      <td>16.160</td>\n",
       "      <td>0</td>\n",
       "      <td>6</td>\n",
       "      <td>1</td>\n",
       "      <td>0</td>\n",
       "      <td>4</td>\n",
       "      <td>-1</td>\n",
       "      <td>0</td>\n",
       "      <td>16.890</td>\n",
       "      <td>17.660</td>\n",
       "      <td>3</td>\n",
       "      <td>0</td>\n",
       "      <td>0</td>\n",
       "      <td>0</td>\n",
       "      <td>1</td>\n",
       "      <td>1</td>\n",
       "      <td>5</td>\n",
       "      <td>-1</td>\n",
       "      <td>0</td>\n",
       "      <td>2</td>\n",
       "    </tr>\n",
       "    <tr>\n",
       "      <th>1910266</th>\n",
       "      <td>3.420</td>\n",
       "      <td>4</td>\n",
       "      <td>-1</td>\n",
       "      <td>10</td>\n",
       "      <td>0</td>\n",
       "      <td>5</td>\n",
       "      <td>2</td>\n",
       "      <td>5</td>\n",
       "      <td>3.620</td>\n",
       "      <td>15.310</td>\n",
       "      <td>-1</td>\n",
       "      <td>3</td>\n",
       "      <td>8</td>\n",
       "      <td>-1</td>\n",
       "      <td>-1</td>\n",
       "      <td>0</td>\n",
       "      <td>0</td>\n",
       "      <td>-1</td>\n",
       "      <td>0</td>\n",
       "      <td>2</td>\n",
       "    </tr>\n",
       "    <tr>\n",
       "      <th>1213509</th>\n",
       "      <td>8.110</td>\n",
       "      <td>0</td>\n",
       "      <td>1</td>\n",
       "      <td>8</td>\n",
       "      <td>0</td>\n",
       "      <td>-1</td>\n",
       "      <td>0</td>\n",
       "      <td>0</td>\n",
       "      <td>11.250</td>\n",
       "      <td>15.030</td>\n",
       "      <td>-1</td>\n",
       "      <td>-1</td>\n",
       "      <td>0</td>\n",
       "      <td>0</td>\n",
       "      <td>1</td>\n",
       "      <td>1</td>\n",
       "      <td>5</td>\n",
       "      <td>-1</td>\n",
       "      <td>0</td>\n",
       "      <td>2</td>\n",
       "    </tr>\n",
       "    <tr>\n",
       "      <th>387249</th>\n",
       "      <td>6.670</td>\n",
       "      <td>5</td>\n",
       "      <td>10</td>\n",
       "      <td>7</td>\n",
       "      <td>1</td>\n",
       "      <td>1</td>\n",
       "      <td>0</td>\n",
       "      <td>6</td>\n",
       "      <td>7.320</td>\n",
       "      <td>16.530</td>\n",
       "      <td>-1</td>\n",
       "      <td>-1</td>\n",
       "      <td>0</td>\n",
       "      <td>-1</td>\n",
       "      <td>-1</td>\n",
       "      <td>0</td>\n",
       "      <td>0</td>\n",
       "      <td>-1</td>\n",
       "      <td>0</td>\n",
       "      <td>0</td>\n",
       "    </tr>\n",
       "    <tr>\n",
       "      <th>2498558</th>\n",
       "      <td>12.230</td>\n",
       "      <td>0</td>\n",
       "      <td>2</td>\n",
       "      <td>5</td>\n",
       "      <td>1</td>\n",
       "      <td>4</td>\n",
       "      <td>-1</td>\n",
       "      <td>0</td>\n",
       "      <td>10.180</td>\n",
       "      <td>16.800</td>\n",
       "      <td>-1</td>\n",
       "      <td>-1</td>\n",
       "      <td>0</td>\n",
       "      <td>-1</td>\n",
       "      <td>-1</td>\n",
       "      <td>1</td>\n",
       "      <td>-1</td>\n",
       "      <td>-1</td>\n",
       "      <td>0</td>\n",
       "      <td>2</td>\n",
       "    </tr>\n",
       "    <tr>\n",
       "      <th>...</th>\n",
       "      <td>...</td>\n",
       "      <td>...</td>\n",
       "      <td>...</td>\n",
       "      <td>...</td>\n",
       "      <td>...</td>\n",
       "      <td>...</td>\n",
       "      <td>...</td>\n",
       "      <td>...</td>\n",
       "      <td>...</td>\n",
       "      <td>...</td>\n",
       "      <td>...</td>\n",
       "      <td>...</td>\n",
       "      <td>...</td>\n",
       "      <td>...</td>\n",
       "      <td>...</td>\n",
       "      <td>...</td>\n",
       "      <td>...</td>\n",
       "      <td>...</td>\n",
       "      <td>...</td>\n",
       "      <td>...</td>\n",
       "    </tr>\n",
       "    <tr>\n",
       "      <th>2258055</th>\n",
       "      <td>3.840</td>\n",
       "      <td>1</td>\n",
       "      <td>1</td>\n",
       "      <td>5</td>\n",
       "      <td>0</td>\n",
       "      <td>0</td>\n",
       "      <td>0</td>\n",
       "      <td>1</td>\n",
       "      <td>4.820</td>\n",
       "      <td>6.100</td>\n",
       "      <td>-1</td>\n",
       "      <td>0</td>\n",
       "      <td>2</td>\n",
       "      <td>-1</td>\n",
       "      <td>-1</td>\n",
       "      <td>1</td>\n",
       "      <td>1</td>\n",
       "      <td>-1</td>\n",
       "      <td>0</td>\n",
       "      <td>2</td>\n",
       "    </tr>\n",
       "    <tr>\n",
       "      <th>1115921</th>\n",
       "      <td>6.290</td>\n",
       "      <td>1</td>\n",
       "      <td>2</td>\n",
       "      <td>5</td>\n",
       "      <td>0</td>\n",
       "      <td>4</td>\n",
       "      <td>0</td>\n",
       "      <td>0</td>\n",
       "      <td>5.640</td>\n",
       "      <td>9.880</td>\n",
       "      <td>-1</td>\n",
       "      <td>0</td>\n",
       "      <td>2</td>\n",
       "      <td>-1</td>\n",
       "      <td>-1</td>\n",
       "      <td>0</td>\n",
       "      <td>0</td>\n",
       "      <td>-1</td>\n",
       "      <td>0</td>\n",
       "      <td>0</td>\n",
       "    </tr>\n",
       "    <tr>\n",
       "      <th>2414138</th>\n",
       "      <td>8.620</td>\n",
       "      <td>0</td>\n",
       "      <td>0</td>\n",
       "      <td>4</td>\n",
       "      <td>0</td>\n",
       "      <td>4</td>\n",
       "      <td>0</td>\n",
       "      <td>6</td>\n",
       "      <td>5.360</td>\n",
       "      <td>12.680</td>\n",
       "      <td>-1</td>\n",
       "      <td>-1</td>\n",
       "      <td>0</td>\n",
       "      <td>-1</td>\n",
       "      <td>1</td>\n",
       "      <td>1</td>\n",
       "      <td>2</td>\n",
       "      <td>-1</td>\n",
       "      <td>5</td>\n",
       "      <td>0</td>\n",
       "    </tr>\n",
       "    <tr>\n",
       "      <th>1624246</th>\n",
       "      <td>6.360</td>\n",
       "      <td>1</td>\n",
       "      <td>0</td>\n",
       "      <td>1</td>\n",
       "      <td>0</td>\n",
       "      <td>3</td>\n",
       "      <td>1</td>\n",
       "      <td>7</td>\n",
       "      <td>6.240</td>\n",
       "      <td>13.020</td>\n",
       "      <td>-1</td>\n",
       "      <td>-1</td>\n",
       "      <td>0</td>\n",
       "      <td>-1</td>\n",
       "      <td>-1</td>\n",
       "      <td>0</td>\n",
       "      <td>0</td>\n",
       "      <td>-1</td>\n",
       "      <td>2</td>\n",
       "      <td>1</td>\n",
       "    </tr>\n",
       "    <tr>\n",
       "      <th>740289</th>\n",
       "      <td>4.950</td>\n",
       "      <td>0</td>\n",
       "      <td>-1</td>\n",
       "      <td>7</td>\n",
       "      <td>0</td>\n",
       "      <td>1</td>\n",
       "      <td>0</td>\n",
       "      <td>1</td>\n",
       "      <td>8.150</td>\n",
       "      <td>4.090</td>\n",
       "      <td>-1</td>\n",
       "      <td>-1</td>\n",
       "      <td>0</td>\n",
       "      <td>-1</td>\n",
       "      <td>-1</td>\n",
       "      <td>0</td>\n",
       "      <td>0</td>\n",
       "      <td>-1</td>\n",
       "      <td>0</td>\n",
       "      <td>2</td>\n",
       "    </tr>\n",
       "  </tbody>\n",
       "</table>\n",
       "<p>2493556 rows × 20 columns</p>\n",
       "</div>"
      ],
      "text/plain": [
       "         cap-diameter  cap-shape  cap-surface  cap-color  \\\n",
       "id                                                         \n",
       "2413129        16.160          0            6          1   \n",
       "1910266         3.420          4           -1         10   \n",
       "1213509         8.110          0            1          8   \n",
       "387249          6.670          5           10          7   \n",
       "2498558        12.230          0            2          5   \n",
       "...               ...        ...          ...        ...   \n",
       "2258055         3.840          1            1          5   \n",
       "1115921         6.290          1            2          5   \n",
       "2414138         8.620          0            0          4   \n",
       "1624246         6.360          1            0          1   \n",
       "740289          4.950          0           -1          7   \n",
       "\n",
       "         does-bruise-or-bleed  gill-attachment  gill-spacing  gill-color  \\\n",
       "id                                                                         \n",
       "2413129                     0                4            -1           0   \n",
       "1910266                     0                5             2           5   \n",
       "1213509                     0               -1             0           0   \n",
       "387249                      1                1             0           6   \n",
       "2498558                     1                4            -1           0   \n",
       "...                       ...              ...           ...         ...   \n",
       "2258055                     0                0             0           1   \n",
       "1115921                     0                4             0           0   \n",
       "2414138                     0                4             0           6   \n",
       "1624246                     0                3             1           7   \n",
       "740289                      0                1             0           1   \n",
       "\n",
       "         stem-height  stem-width  stem-root  stem-surface  stem-color  \\\n",
       "id                                                                      \n",
       "2413129       16.890      17.660          3             0           0   \n",
       "1910266        3.620      15.310         -1             3           8   \n",
       "1213509       11.250      15.030         -1            -1           0   \n",
       "387249         7.320      16.530         -1            -1           0   \n",
       "2498558       10.180      16.800         -1            -1           0   \n",
       "...              ...         ...        ...           ...         ...   \n",
       "2258055        4.820       6.100         -1             0           2   \n",
       "1115921        5.640       9.880         -1             0           2   \n",
       "2414138        5.360      12.680         -1            -1           0   \n",
       "1624246        6.240      13.020         -1            -1           0   \n",
       "740289         8.150       4.090         -1            -1           0   \n",
       "\n",
       "         veil-type  veil-color  has-ring  ring-type  spore-print-color  \\\n",
       "id                                                                       \n",
       "2413129          0           1         1          5                 -1   \n",
       "1910266         -1          -1         0          0                 -1   \n",
       "1213509          0           1         1          5                 -1   \n",
       "387249          -1          -1         0          0                 -1   \n",
       "2498558         -1          -1         1         -1                 -1   \n",
       "...            ...         ...       ...        ...                ...   \n",
       "2258055         -1          -1         1          1                 -1   \n",
       "1115921         -1          -1         0          0                 -1   \n",
       "2414138         -1           1         1          2                 -1   \n",
       "1624246         -1          -1         0          0                 -1   \n",
       "740289          -1          -1         0          0                 -1   \n",
       "\n",
       "         habitat  season  \n",
       "id                        \n",
       "2413129        0       2  \n",
       "1910266        0       2  \n",
       "1213509        0       2  \n",
       "387249         0       0  \n",
       "2498558        0       2  \n",
       "...          ...     ...  \n",
       "2258055        0       2  \n",
       "1115921        0       0  \n",
       "2414138        5       0  \n",
       "1624246        2       1  \n",
       "740289         0       2  \n",
       "\n",
       "[2493556 rows x 20 columns]"
      ]
     },
     "execution_count": 5,
     "metadata": {},
     "output_type": "execute_result"
    }
   ],
   "source": [
    "X_train = pd.read_parquet('/kaggle/input/ps4e8-data-eng/train.parquet', engine='pyarrow')\n",
    "y_train = X_train.pop('class')\n",
    "dtrain = xgb.DMatrix(X_train, y_train, enable_categorical=True)\n",
    "\n",
    "X_test = pd.read_parquet('/kaggle/input/ps4e8-data-eng/test.parquet', engine='pyarrow')\n",
    "y_test = X_test.pop('class')\n",
    "dtest = xgb.DMatrix(X_test, label=y_test, enable_categorical=True)\n",
    "\n",
    "X_val = pd.read_parquet('/kaggle/input/ps4e8-data-eng/val.parquet', engine='pyarrow')\n",
    "dval = xgb.DMatrix(X_val, enable_categorical=True)\n",
    "assert 'class' not in X_val.columns\n",
    "\n",
    "X_train"
   ]
  },
  {
   "cell_type": "code",
   "execution_count": 6,
   "id": "bfd90244",
   "metadata": {
    "editable": false,
    "execution": {
     "iopub.execute_input": "2024-08-19T17:32:51.845135Z",
     "iopub.status.busy": "2024-08-19T17:32:51.844737Z",
     "iopub.status.idle": "2024-08-19T17:32:51.852603Z",
     "shell.execute_reply": "2024-08-19T17:32:51.851255Z"
    },
    "papermill": {
     "duration": 0.019291,
     "end_time": "2024-08-19T17:32:51.855191",
     "exception": false,
     "start_time": "2024-08-19T17:32:51.835900",
     "status": "completed"
    },
    "tags": []
   },
   "outputs": [
    {
     "data": {
      "text/plain": [
       "Index(['cap-diameter', 'cap-shape', 'cap-surface', 'cap-color',\n",
       "       'does-bruise-or-bleed', 'gill-attachment', 'gill-spacing', 'gill-color',\n",
       "       'stem-height', 'stem-width', 'stem-root', 'stem-surface', 'stem-color',\n",
       "       'veil-type', 'veil-color', 'has-ring', 'ring-type', 'spore-print-color',\n",
       "       'habitat', 'season'],\n",
       "      dtype='object')"
      ]
     },
     "execution_count": 6,
     "metadata": {},
     "output_type": "execute_result"
    }
   ],
   "source": [
    "train_cols = X_train.columns\n",
    "train_cols"
   ]
  },
  {
   "cell_type": "code",
   "execution_count": 7,
   "id": "14c5a67d",
   "metadata": {
    "editable": false,
    "execution": {
     "iopub.execute_input": "2024-08-19T17:32:51.871353Z",
     "iopub.status.busy": "2024-08-19T17:32:51.870913Z",
     "iopub.status.idle": "2024-08-19T17:32:51.878096Z",
     "shell.execute_reply": "2024-08-19T17:32:51.876916Z"
    },
    "papermill": {
     "duration": 0.017868,
     "end_time": "2024-08-19T17:32:51.880706",
     "exception": false,
     "start_time": "2024-08-19T17:32:51.862838",
     "status": "completed"
    },
    "tags": []
   },
   "outputs": [
    {
     "data": {
      "text/plain": [
       "(2493556, 20)"
      ]
     },
     "execution_count": 7,
     "metadata": {},
     "output_type": "execute_result"
    }
   ],
   "source": [
    "X_train.shape"
   ]
  },
  {
   "cell_type": "code",
   "execution_count": 8,
   "id": "3ab6d240",
   "metadata": {
    "editable": false,
    "execution": {
     "iopub.execute_input": "2024-08-19T17:32:51.897202Z",
     "iopub.status.busy": "2024-08-19T17:32:51.896743Z",
     "iopub.status.idle": "2024-08-19T17:32:51.906401Z",
     "shell.execute_reply": "2024-08-19T17:32:51.905150Z"
    },
    "papermill": {
     "duration": 0.021375,
     "end_time": "2024-08-19T17:32:51.908931",
     "exception": false,
     "start_time": "2024-08-19T17:32:51.887556",
     "status": "completed"
    },
    "tags": []
   },
   "outputs": [
    {
     "data": {
      "text/plain": [
       "cap-diameter            float64\n",
       "cap-shape                 int64\n",
       "cap-surface               int64\n",
       "cap-color                 int64\n",
       "does-bruise-or-bleed      int64\n",
       "gill-attachment           int64\n",
       "gill-spacing              int64\n",
       "gill-color                int64\n",
       "stem-height             float64\n",
       "stem-width              float64\n",
       "stem-root                 int64\n",
       "stem-surface              int64\n",
       "stem-color                int64\n",
       "veil-type                 int64\n",
       "veil-color                int64\n",
       "has-ring                  int64\n",
       "ring-type                 int64\n",
       "spore-print-color         int64\n",
       "habitat                   int64\n",
       "season                    int64\n",
       "dtype: object"
      ]
     },
     "execution_count": 8,
     "metadata": {},
     "output_type": "execute_result"
    }
   ],
   "source": [
    "X_train.dtypes"
   ]
  },
  {
   "cell_type": "code",
   "execution_count": 9,
   "id": "ad368b83",
   "metadata": {
    "editable": false,
    "execution": {
     "iopub.execute_input": "2024-08-19T17:32:51.924766Z",
     "iopub.status.busy": "2024-08-19T17:32:51.924368Z",
     "iopub.status.idle": "2024-08-19T17:32:51.929468Z",
     "shell.execute_reply": "2024-08-19T17:32:51.928377Z"
    },
    "papermill": {
     "duration": 0.015809,
     "end_time": "2024-08-19T17:32:51.931783",
     "exception": false,
     "start_time": "2024-08-19T17:32:51.915974",
     "status": "completed"
    },
    "tags": []
   },
   "outputs": [],
   "source": [
    "def get_pred(X):\n",
    "    return np.round(model.predict(X))"
   ]
  },
  {
   "cell_type": "markdown",
   "id": "3ceff913",
   "metadata": {},
   "source": [
    "# 3. Defining custom XGBoost metric\n",
    "Since the contest uses a custom (not available in XGBoost) metric, we need to create it ourselves! The metric used is [Matthews correlation coefficient](https://en.wikipedia.org/wiki/Phi_coefficient) known in statistics as phi coefficient. We can speed up sklearn's MCC implementation to make our search more efficient (credits go to this [notebook](https://www.kaggle.com/competitions/playground-series-s4e8/discussion/528193))."
   ]
  },
  {
   "cell_type": "code",
   "execution_count": 10,
   "id": "7ebc550c",
   "metadata": {
    "execution": {
     "iopub.execute_input": "2024-08-19T17:32:51.948140Z",
     "iopub.status.busy": "2024-08-19T17:32:51.947752Z",
     "iopub.status.idle": "2024-08-19T17:32:51.956694Z",
     "shell.execute_reply": "2024-08-19T17:32:51.955369Z"
    },
    "papermill": {
     "duration": 0.020127,
     "end_time": "2024-08-19T17:32:51.959066",
     "exception": false,
     "start_time": "2024-08-19T17:32:51.938939",
     "status": "completed"
    },
    "tags": []
   },
   "outputs": [],
   "source": [
    "def matthews_corrcoef_fast(y_true, y_pred):\n",
    "    df = pd.DataFrame({'actual': y_true, 'pred': y_pred})\n",
    "\n",
    "    # 0=p(poison), 1=e(edible)\n",
    "    n11f = ((df['actual']==0) & (df['pred']==0)).sum()\n",
    "    n00f = ((df['actual']==1) & (df['pred']==1)).sum()\n",
    "    n10f = ((df['actual']==0) & (df['pred']==1)).sum()\n",
    "    n01f = ((df['actual']==1) & (df['pred']==0)).sum()\n",
    "    n1_f = n11f+n10f\n",
    "    n0_f = n01f+n00f\n",
    "    n_0f = n10f+n00f\n",
    "    n_1f = n11f+n01f\n",
    "    n1_fs = np.sqrt(n11f+n10f)\n",
    "    n0_fs = np.sqrt(n01f+n00f)\n",
    "    n_0fs = np.sqrt(n10f+n00f)\n",
    "    n_1fs = np.sqrt(n11f+n01f)\n",
    "    mcc_fast = (n11f*n00f - n10f*n01f) / (n1_fs*n0_fs*n_0fs*n_1fs)\n",
    "    if np.isnan(mcc_fast): return 0\n",
    "    return mcc_fast"
   ]
  },
  {
   "cell_type": "code",
   "execution_count": 12,
   "id": "ba9b673f",
   "metadata": {
    "execution": {
     "iopub.execute_input": "2024-08-19T17:32:52.000185Z",
     "iopub.status.busy": "2024-08-19T17:32:51.999112Z",
     "iopub.status.idle": "2024-08-19T17:32:52.007944Z",
     "shell.execute_reply": "2024-08-19T17:32:52.006684Z"
    },
    "papermill": {
     "duration": 0.020406,
     "end_time": "2024-08-19T17:32:52.010583",
     "exception": false,
     "start_time": "2024-08-19T17:32:51.990177",
     "status": "completed"
    },
    "tags": []
   },
   "outputs": [],
   "source": [
    "def objective(trial):\n",
    "    params = {\n",
    "        'objective': 'binary:logistic',\n",
    "        'eta': 0.01,\n",
    "        'max_depth': 64,\n",
    "        'min_child_weight': 4,\n",
    "        'colsample_bytree': 0.5332244728838978,\n",
    "        'gamma': 0.7053913533793799,\n",
    "        'alpha': trial.suggest_float('alpha', 1e-7, 0.5, log=True),\n",
    "        'lambda': 0.009610147650215044,\n",
    "        'seed': RAND\n",
    "    }\n",
    "    \n",
    "    dtrain = xgb.DMatrix(X_train, y_train)\n",
    "    dtest = xgb.DMatrix(X_test, label=y_test)\n",
    "    \n",
    "    model = xgb.train(\n",
    "        params,\n",
    "        dtrain,\n",
    "        num_boost_round=99999999,\n",
    "        evals=[(dtest, 'test')],\n",
    "        verbose_eval=50,\n",
    "        custom_metric=matthews_corrcoef_fast,\n",
    "        callbacks=[\n",
    "            xgb.callback.EarlyStopping(500, save_best=True, min_delta=1e-4, metric_name='mcc', data_name='test', maximize=True),\n",
    "            opt_int.XGBoostPruningCallback(trial, 'test-mcc')\n",
    "        ]\n",
    "    )\n",
    "    \n",
    "    return matthews_corrcoef_fast(y_test, np.round(model.predict(dtest)))"
   ]
  },
  {
   "cell_type": "markdown",
   "id": "525a2413",
   "metadata": {},
   "source": [
    "# 4. Using existing Optuna study\n",
    "We can reuse already existing study if it exists. This way we don't have to worry about Kaggle's 12 hour limit as we can just run this notebook multiple times each time reusing sampler and pruner from previous one. [Learn more](https://optuna.readthedocs.io/en/stable/tutorial/20_recipes/001_rdb.html)."
   ]
  },
  {
   "cell_type": "code",
   "execution_count": 13,
   "id": "91901d04",
   "metadata": {
    "editable": false,
    "execution": {
     "iopub.execute_input": "2024-08-19T17:32:52.026362Z",
     "iopub.status.busy": "2024-08-19T17:32:52.025930Z",
     "iopub.status.idle": "2024-08-19T17:32:52.031271Z",
     "shell.execute_reply": "2024-08-19T17:32:52.030136Z"
    },
    "papermill": {
     "duration": 0.016257,
     "end_time": "2024-08-19T17:32:52.033980",
     "exception": false,
     "start_time": "2024-08-19T17:32:52.017723",
     "status": "completed"
    },
    "tags": []
   },
   "outputs": [],
   "source": [
    "study_name = 'xgb-tune'\n",
    "storage = 'sqlite:///xgb.db'"
   ]
  },
  {
   "cell_type": "code",
   "execution_count": 14,
   "id": "3461f9eb",
   "metadata": {
    "editable": false,
    "execution": {
     "iopub.execute_input": "2024-08-19T17:32:52.050828Z",
     "iopub.status.busy": "2024-08-19T17:32:52.050057Z",
     "iopub.status.idle": "2024-08-19T17:32:52.055942Z",
     "shell.execute_reply": "2024-08-19T17:32:52.054882Z"
    },
    "papermill": {
     "duration": 0.017286,
     "end_time": "2024-08-19T17:32:52.058378",
     "exception": false,
     "start_time": "2024-08-19T17:32:52.041092",
     "status": "completed"
    },
    "tags": []
   },
   "outputs": [
    {
     "name": "stdout",
     "output_type": "stream",
     "text": [
      "Default sampler\n"
     ]
    }
   ],
   "source": [
    "try:\n",
    "    sampler = pickle.load(open(\"/kaggle/input/ps4e8-xgbclassifier-tuner/sampler.pkl\", \"rb\"))\n",
    "    print(\"Choosing saved sampler!\")\n",
    "except FileNotFoundError:\n",
    "    sampler = None\n",
    "    print(\"Default sampler\")"
   ]
  },
  {
   "cell_type": "code",
   "execution_count": 15,
   "id": "435e372f",
   "metadata": {
    "editable": false,
    "execution": {
     "iopub.execute_input": "2024-08-19T17:32:52.074019Z",
     "iopub.status.busy": "2024-08-19T17:32:52.073652Z",
     "iopub.status.idle": "2024-08-19T17:32:52.080015Z",
     "shell.execute_reply": "2024-08-19T17:32:52.078801Z"
    },
    "papermill": {
     "duration": 0.016936,
     "end_time": "2024-08-19T17:32:52.082317",
     "exception": false,
     "start_time": "2024-08-19T17:32:52.065381",
     "status": "completed"
    },
    "tags": []
   },
   "outputs": [
    {
     "name": "stdout",
     "output_type": "stream",
     "text": [
      "Default pruner\n"
     ]
    }
   ],
   "source": [
    "try:\n",
    "    pruner = pickle.load(open(\"/kaggle/input/ps4e8-xgbclassifier-tuner/pruner.pkl\", \"rb\"))\n",
    "    print(\"Choosing saved pruner!\")\n",
    "except FileNotFoundError:\n",
    "    pruner = optuna.pruners.HyperbandPruner()\n",
    "    print(\"Default pruner\")"
   ]
  },
  {
   "cell_type": "code",
   "execution_count": 16,
   "id": "2a095f37",
   "metadata": {
    "execution": {
     "iopub.execute_input": "2024-08-19T17:32:52.097793Z",
     "iopub.status.busy": "2024-08-19T17:32:52.097327Z",
     "iopub.status.idle": "2024-08-19T20:57:08.808074Z",
     "shell.execute_reply": "2024-08-19T20:57:08.806902Z"
    },
    "papermill": {
     "duration": 12256.721239,
     "end_time": "2024-08-19T20:57:08.810588",
     "exception": false,
     "start_time": "2024-08-19T17:32:52.089349",
     "status": "completed"
    },
    "tags": []
   },
   "outputs": [
    {
     "name": "stderr",
     "output_type": "stream",
     "text": [
      "[I 2024-08-19 17:32:54,055] A new study created in RDB with name: xgb-tune\n"
     ]
    },
    {
     "name": "stdout",
     "output_type": "stream",
     "text": [
      "[0]\ttest-logloss:0.67938\ttest-mcc:0.00000\n"
     ]
    },
    {
     "name": "stderr",
     "output_type": "stream",
     "text": [
      "/tmp/ipykernel_18/2873463128.py:17: RuntimeWarning: invalid value encountered in scalar divide\n",
      "  mcc_fast = (n11f*n00f - n10f*n01f) / (n1_fs*n0_fs*n_0fs*n_1fs)\n"
     ]
    },
    {
     "name": "stdout",
     "output_type": "stream",
     "text": [
      "[50]\ttest-logloss:0.37919\ttest-mcc:0.98392\n",
      "[100]\ttest-logloss:0.23053\ttest-mcc:0.98475\n",
      "[150]\ttest-logloss:0.14884\ttest-mcc:0.98479\n",
      "[200]\ttest-logloss:0.10267\ttest-mcc:0.98488\n",
      "[250]\ttest-logloss:0.07496\ttest-mcc:0.98493\n",
      "[300]\ttest-logloss:0.05874\ttest-mcc:0.98495\n",
      "[350]\ttest-logloss:0.04894\ttest-mcc:0.98503\n",
      "[400]\ttest-logloss:0.04314\ttest-mcc:0.98508\n",
      "[450]\ttest-logloss:0.03978\ttest-mcc:0.98509\n",
      "[500]\ttest-logloss:0.03780\ttest-mcc:0.98516\n",
      "[550]\ttest-logloss:0.03667\ttest-mcc:0.98512\n",
      "[600]\ttest-logloss:0.03606\ttest-mcc:0.98515\n",
      "[650]\ttest-logloss:0.03572\ttest-mcc:0.98517\n",
      "[700]\ttest-logloss:0.03554\ttest-mcc:0.98517\n",
      "[750]\ttest-logloss:0.03546\ttest-mcc:0.98513\n",
      "[800]\ttest-logloss:0.03544\ttest-mcc:0.98512\n",
      "[850]\ttest-logloss:0.03546\ttest-mcc:0.98511\n",
      "[900]\ttest-logloss:0.03548\ttest-mcc:0.98512\n",
      "[950]\ttest-logloss:0.03551\ttest-mcc:0.98510\n",
      "[982]\ttest-logloss:0.03552\ttest-mcc:0.98511\n"
     ]
    },
    {
     "name": "stderr",
     "output_type": "stream",
     "text": [
      "[I 2024-08-19 17:44:50,350] Trial 0 finished with value: 0.9851434734696954 and parameters: {'alpha': 2.282955238173052e-06}. Best is trial 0 with value: 0.9851434734696954.\n"
     ]
    },
    {
     "name": "stdout",
     "output_type": "stream",
     "text": [
      "[0]\ttest-logloss:0.67938\ttest-mcc:0.00000\n"
     ]
    },
    {
     "name": "stderr",
     "output_type": "stream",
     "text": [
      "/tmp/ipykernel_18/2873463128.py:17: RuntimeWarning: invalid value encountered in scalar divide\n",
      "  mcc_fast = (n11f*n00f - n10f*n01f) / (n1_fs*n0_fs*n_0fs*n_1fs)\n"
     ]
    },
    {
     "name": "stdout",
     "output_type": "stream",
     "text": [
      "[50]\ttest-logloss:0.37918\ttest-mcc:0.98392\n",
      "[100]\ttest-logloss:0.23052\ttest-mcc:0.98474\n",
      "[150]\ttest-logloss:0.14884\ttest-mcc:0.98476\n",
      "[200]\ttest-logloss:0.10267\ttest-mcc:0.98488\n",
      "[250]\ttest-logloss:0.07492\ttest-mcc:0.98493\n",
      "[300]\ttest-logloss:0.05872\ttest-mcc:0.98497\n",
      "[350]\ttest-logloss:0.04895\ttest-mcc:0.98505\n",
      "[400]\ttest-logloss:0.04315\ttest-mcc:0.98510\n",
      "[450]\ttest-logloss:0.03979\ttest-mcc:0.98510\n",
      "[500]\ttest-logloss:0.03780\ttest-mcc:0.98513\n",
      "[550]\ttest-logloss:0.03668\ttest-mcc:0.98513\n",
      "[600]\ttest-logloss:0.03606\ttest-mcc:0.98514\n",
      "[650]\ttest-logloss:0.03572\ttest-mcc:0.98515\n",
      "[700]\ttest-logloss:0.03554\ttest-mcc:0.98517\n",
      "[750]\ttest-logloss:0.03546\ttest-mcc:0.98516\n",
      "[800]\ttest-logloss:0.03543\ttest-mcc:0.98512\n",
      "[850]\ttest-logloss:0.03545\ttest-mcc:0.98512\n",
      "[900]\ttest-logloss:0.03547\ttest-mcc:0.98513\n",
      "[950]\ttest-logloss:0.03550\ttest-mcc:0.98513\n",
      "[1000]\ttest-logloss:0.03551\ttest-mcc:0.98512\n",
      "[1001]\ttest-logloss:0.03552\ttest-mcc:0.98512\n"
     ]
    },
    {
     "name": "stderr",
     "output_type": "stream",
     "text": [
      "[I 2024-08-19 17:56:28,160] Trial 1 finished with value: 0.9851402261764237 and parameters: {'alpha': 8.139730472472635e-05}. Best is trial 0 with value: 0.9851434734696954.\n"
     ]
    },
    {
     "name": "stdout",
     "output_type": "stream",
     "text": [
      "[0]\ttest-logloss:0.67939\ttest-mcc:0.00000\n"
     ]
    },
    {
     "name": "stderr",
     "output_type": "stream",
     "text": [
      "/tmp/ipykernel_18/2873463128.py:17: RuntimeWarning: invalid value encountered in scalar divide\n",
      "  mcc_fast = (n11f*n00f - n10f*n01f) / (n1_fs*n0_fs*n_0fs*n_1fs)\n",
      "[I 2024-08-19 17:56:38,996] Trial 2 pruned. Trial was pruned at iteration 9.\n"
     ]
    },
    {
     "name": "stdout",
     "output_type": "stream",
     "text": [
      "[0]\ttest-logloss:0.67938\ttest-mcc:0.00000\n"
     ]
    },
    {
     "name": "stderr",
     "output_type": "stream",
     "text": [
      "/tmp/ipykernel_18/2873463128.py:17: RuntimeWarning: invalid value encountered in scalar divide\n",
      "  mcc_fast = (n11f*n00f - n10f*n01f) / (n1_fs*n0_fs*n_0fs*n_1fs)\n"
     ]
    },
    {
     "name": "stdout",
     "output_type": "stream",
     "text": [
      "[50]\ttest-logloss:0.37919\ttest-mcc:0.98392\n"
     ]
    },
    {
     "name": "stderr",
     "output_type": "stream",
     "text": [
      "[I 2024-08-19 17:57:36,608] Trial 3 pruned. Trial was pruned at iteration 81.\n"
     ]
    },
    {
     "name": "stdout",
     "output_type": "stream",
     "text": [
      "[0]\ttest-logloss:0.67940\ttest-mcc:0.00000\n"
     ]
    },
    {
     "name": "stderr",
     "output_type": "stream",
     "text": [
      "/tmp/ipykernel_18/2873463128.py:17: RuntimeWarning: invalid value encountered in scalar divide\n",
      "  mcc_fast = (n11f*n00f - n10f*n01f) / (n1_fs*n0_fs*n_0fs*n_1fs)\n",
      "[I 2024-08-19 17:57:48,108] Trial 4 pruned. Trial was pruned at iteration 9.\n"
     ]
    },
    {
     "name": "stdout",
     "output_type": "stream",
     "text": [
      "[0]\ttest-logloss:0.67938\ttest-mcc:0.00000\n"
     ]
    },
    {
     "name": "stderr",
     "output_type": "stream",
     "text": [
      "/tmp/ipykernel_18/2873463128.py:17: RuntimeWarning: invalid value encountered in scalar divide\n",
      "  mcc_fast = (n11f*n00f - n10f*n01f) / (n1_fs*n0_fs*n_0fs*n_1fs)\n"
     ]
    },
    {
     "name": "stdout",
     "output_type": "stream",
     "text": [
      "[50]\ttest-logloss:0.37919\ttest-mcc:0.98392\n"
     ]
    },
    {
     "name": "stderr",
     "output_type": "stream",
     "text": [
      "[I 2024-08-19 17:58:46,932] Trial 5 pruned. Trial was pruned at iteration 81.\n"
     ]
    },
    {
     "name": "stdout",
     "output_type": "stream",
     "text": [
      "[0]\ttest-logloss:0.67938\ttest-mcc:0.00000\n"
     ]
    },
    {
     "name": "stderr",
     "output_type": "stream",
     "text": [
      "/tmp/ipykernel_18/2873463128.py:17: RuntimeWarning: invalid value encountered in scalar divide\n",
      "  mcc_fast = (n11f*n00f - n10f*n01f) / (n1_fs*n0_fs*n_0fs*n_1fs)\n",
      "[I 2024-08-19 17:58:58,522] Trial 6 pruned. Trial was pruned at iteration 9.\n"
     ]
    },
    {
     "name": "stdout",
     "output_type": "stream",
     "text": [
      "[0]\ttest-logloss:0.67938\ttest-mcc:0.00000\n"
     ]
    },
    {
     "name": "stderr",
     "output_type": "stream",
     "text": [
      "/tmp/ipykernel_18/2873463128.py:17: RuntimeWarning: invalid value encountered in scalar divide\n",
      "  mcc_fast = (n11f*n00f - n10f*n01f) / (n1_fs*n0_fs*n_0fs*n_1fs)\n"
     ]
    },
    {
     "name": "stdout",
     "output_type": "stream",
     "text": [
      "[50]\ttest-logloss:0.37919\ttest-mcc:0.98392\n"
     ]
    },
    {
     "name": "stderr",
     "output_type": "stream",
     "text": [
      "[I 2024-08-19 17:59:56,866] Trial 7 pruned. Trial was pruned at iteration 81.\n"
     ]
    },
    {
     "name": "stdout",
     "output_type": "stream",
     "text": [
      "[0]\ttest-logloss:0.67938\ttest-mcc:0.00000\n"
     ]
    },
    {
     "name": "stderr",
     "output_type": "stream",
     "text": [
      "/tmp/ipykernel_18/2873463128.py:17: RuntimeWarning: invalid value encountered in scalar divide\n",
      "  mcc_fast = (n11f*n00f - n10f*n01f) / (n1_fs*n0_fs*n_0fs*n_1fs)\n"
     ]
    },
    {
     "name": "stdout",
     "output_type": "stream",
     "text": [
      "[50]\ttest-logloss:0.37919\ttest-mcc:0.98392\n",
      "[100]\ttest-logloss:0.23053\ttest-mcc:0.98475\n",
      "[150]\ttest-logloss:0.14884\ttest-mcc:0.98478\n",
      "[200]\ttest-logloss:0.10267\ttest-mcc:0.98489\n",
      "[250]\ttest-logloss:0.07496\ttest-mcc:0.98492\n",
      "[300]\ttest-logloss:0.05874\ttest-mcc:0.98496\n",
      "[350]\ttest-logloss:0.04895\ttest-mcc:0.98503\n",
      "[400]\ttest-logloss:0.04314\ttest-mcc:0.98508\n",
      "[450]\ttest-logloss:0.03979\ttest-mcc:0.98511\n",
      "[500]\ttest-logloss:0.03780\ttest-mcc:0.98515\n",
      "[550]\ttest-logloss:0.03667\ttest-mcc:0.98515\n",
      "[600]\ttest-logloss:0.03606\ttest-mcc:0.98514\n",
      "[650]\ttest-logloss:0.03572\ttest-mcc:0.98516\n",
      "[700]\ttest-logloss:0.03554\ttest-mcc:0.98515\n",
      "[750]\ttest-logloss:0.03546\ttest-mcc:0.98514\n",
      "[800]\ttest-logloss:0.03544\ttest-mcc:0.98514\n",
      "[850]\ttest-logloss:0.03545\ttest-mcc:0.98511\n",
      "[900]\ttest-logloss:0.03547\ttest-mcc:0.98511\n",
      "[950]\ttest-logloss:0.03550\ttest-mcc:0.98511\n",
      "[972]\ttest-logloss:0.03551\ttest-mcc:0.98510\n"
     ]
    },
    {
     "name": "stderr",
     "output_type": "stream",
     "text": [
      "[I 2024-08-19 18:11:20,093] Trial 8 finished with value: 0.9851273239055888 and parameters: {'alpha': 1.466562177295974e-06}. Best is trial 0 with value: 0.9851434734696954.\n"
     ]
    },
    {
     "name": "stdout",
     "output_type": "stream",
     "text": [
      "[0]\ttest-logloss:0.67938\ttest-mcc:0.00000\n"
     ]
    },
    {
     "name": "stderr",
     "output_type": "stream",
     "text": [
      "/tmp/ipykernel_18/2873463128.py:17: RuntimeWarning: invalid value encountered in scalar divide\n",
      "  mcc_fast = (n11f*n00f - n10f*n01f) / (n1_fs*n0_fs*n_0fs*n_1fs)\n"
     ]
    },
    {
     "name": "stdout",
     "output_type": "stream",
     "text": [
      "[50]\ttest-logloss:0.37919\ttest-mcc:0.98392\n",
      "[100]\ttest-logloss:0.23053\ttest-mcc:0.98475\n",
      "[150]\ttest-logloss:0.14884\ttest-mcc:0.98478\n",
      "[200]\ttest-logloss:0.10267\ttest-mcc:0.98489\n",
      "[250]\ttest-logloss:0.07497\ttest-mcc:0.98492\n",
      "[300]\ttest-logloss:0.05874\ttest-mcc:0.98496\n",
      "[350]\ttest-logloss:0.04894\ttest-mcc:0.98504\n",
      "[400]\ttest-logloss:0.04314\ttest-mcc:0.98509\n",
      "[450]\ttest-logloss:0.03978\ttest-mcc:0.98511\n",
      "[500]\ttest-logloss:0.03780\ttest-mcc:0.98515\n",
      "[550]\ttest-logloss:0.03667\ttest-mcc:0.98513\n",
      "[600]\ttest-logloss:0.03606\ttest-mcc:0.98514\n",
      "[650]\ttest-logloss:0.03572\ttest-mcc:0.98516\n",
      "[700]\ttest-logloss:0.03553\ttest-mcc:0.98514\n"
     ]
    },
    {
     "name": "stderr",
     "output_type": "stream",
     "text": [
      "[I 2024-08-19 18:19:38,670] Trial 9 pruned. Trial was pruned at iteration 729.\n"
     ]
    },
    {
     "name": "stdout",
     "output_type": "stream",
     "text": [
      "[0]\ttest-logloss:0.67938\ttest-mcc:0.00000\n"
     ]
    },
    {
     "name": "stderr",
     "output_type": "stream",
     "text": [
      "/tmp/ipykernel_18/2873463128.py:17: RuntimeWarning: invalid value encountered in scalar divide\n",
      "  mcc_fast = (n11f*n00f - n10f*n01f) / (n1_fs*n0_fs*n_0fs*n_1fs)\n",
      "[I 2024-08-19 18:19:50,258] Trial 10 pruned. Trial was pruned at iteration 9.\n"
     ]
    },
    {
     "name": "stdout",
     "output_type": "stream",
     "text": [
      "[0]\ttest-logloss:0.67938\ttest-mcc:0.00000\n"
     ]
    },
    {
     "name": "stderr",
     "output_type": "stream",
     "text": [
      "/tmp/ipykernel_18/2873463128.py:17: RuntimeWarning: invalid value encountered in scalar divide\n",
      "  mcc_fast = (n11f*n00f - n10f*n01f) / (n1_fs*n0_fs*n_0fs*n_1fs)\n",
      "[I 2024-08-19 18:20:02,842] Trial 11 pruned. Trial was pruned at iteration 9.\n"
     ]
    },
    {
     "name": "stdout",
     "output_type": "stream",
     "text": [
      "[0]\ttest-logloss:0.67938\ttest-mcc:0.00000\n"
     ]
    },
    {
     "name": "stderr",
     "output_type": "stream",
     "text": [
      "/tmp/ipykernel_18/2873463128.py:17: RuntimeWarning: invalid value encountered in scalar divide\n",
      "  mcc_fast = (n11f*n00f - n10f*n01f) / (n1_fs*n0_fs*n_0fs*n_1fs)\n",
      "[I 2024-08-19 18:20:14,343] Trial 12 pruned. Trial was pruned at iteration 9.\n"
     ]
    },
    {
     "name": "stdout",
     "output_type": "stream",
     "text": [
      "[0]\ttest-logloss:0.67938\ttest-mcc:0.00000\n"
     ]
    },
    {
     "name": "stderr",
     "output_type": "stream",
     "text": [
      "/tmp/ipykernel_18/2873463128.py:17: RuntimeWarning: invalid value encountered in scalar divide\n",
      "  mcc_fast = (n11f*n00f - n10f*n01f) / (n1_fs*n0_fs*n_0fs*n_1fs)\n"
     ]
    },
    {
     "name": "stdout",
     "output_type": "stream",
     "text": [
      "[50]\ttest-logloss:0.37914\ttest-mcc:0.98391\n",
      "[100]\ttest-logloss:0.23027\ttest-mcc:0.98474\n",
      "[150]\ttest-logloss:0.14869\ttest-mcc:0.98478\n",
      "[200]\ttest-logloss:0.10258\ttest-mcc:0.98491\n",
      "[250]\ttest-logloss:0.07486\ttest-mcc:0.98494\n",
      "[300]\ttest-logloss:0.05867\ttest-mcc:0.98498\n",
      "[350]\ttest-logloss:0.04890\ttest-mcc:0.98503\n",
      "[400]\ttest-logloss:0.04312\ttest-mcc:0.98508\n",
      "[450]\ttest-logloss:0.03977\ttest-mcc:0.98510\n",
      "[500]\ttest-logloss:0.03780\ttest-mcc:0.98515\n",
      "[550]\ttest-logloss:0.03667\ttest-mcc:0.98515\n",
      "[600]\ttest-logloss:0.03605\ttest-mcc:0.98515\n",
      "[650]\ttest-logloss:0.03571\ttest-mcc:0.98517\n",
      "[700]\ttest-logloss:0.03553\ttest-mcc:0.98514\n",
      "[750]\ttest-logloss:0.03545\ttest-mcc:0.98516\n",
      "[800]\ttest-logloss:0.03543\ttest-mcc:0.98513\n",
      "[850]\ttest-logloss:0.03545\ttest-mcc:0.98512\n",
      "[900]\ttest-logloss:0.03547\ttest-mcc:0.98514\n",
      "[950]\ttest-logloss:0.03550\ttest-mcc:0.98512\n",
      "[991]\ttest-logloss:0.03552\ttest-mcc:0.98510\n"
     ]
    },
    {
     "name": "stderr",
     "output_type": "stream",
     "text": [
      "[I 2024-08-19 18:32:10,086] Trial 13 finished with value: 0.9851596015321428 and parameters: {'alpha': 0.0036488704419574652}. Best is trial 13 with value: 0.9851596015321428.\n"
     ]
    },
    {
     "name": "stdout",
     "output_type": "stream",
     "text": [
      "[0]\ttest-logloss:0.67938\ttest-mcc:0.00000\n"
     ]
    },
    {
     "name": "stderr",
     "output_type": "stream",
     "text": [
      "/tmp/ipykernel_18/2873463128.py:17: RuntimeWarning: invalid value encountered in scalar divide\n",
      "  mcc_fast = (n11f*n00f - n10f*n01f) / (n1_fs*n0_fs*n_0fs*n_1fs)\n"
     ]
    },
    {
     "name": "stdout",
     "output_type": "stream",
     "text": [
      "[50]\ttest-logloss:0.37884\ttest-mcc:0.98396\n",
      "[100]\ttest-logloss:0.23010\ttest-mcc:0.98477\n",
      "[150]\ttest-logloss:0.14865\ttest-mcc:0.98478\n",
      "[200]\ttest-logloss:0.10256\ttest-mcc:0.98490\n",
      "[250]\ttest-logloss:0.07484\ttest-mcc:0.98495\n",
      "[300]\ttest-logloss:0.05868\ttest-mcc:0.98499\n",
      "[350]\ttest-logloss:0.04891\ttest-mcc:0.98506\n",
      "[400]\ttest-logloss:0.04313\ttest-mcc:0.98508\n",
      "[450]\ttest-logloss:0.03978\ttest-mcc:0.98511\n",
      "[500]\ttest-logloss:0.03780\ttest-mcc:0.98516\n",
      "[550]\ttest-logloss:0.03667\ttest-mcc:0.98516\n",
      "[600]\ttest-logloss:0.03606\ttest-mcc:0.98517\n",
      "[650]\ttest-logloss:0.03571\ttest-mcc:0.98517\n",
      "[700]\ttest-logloss:0.03553\ttest-mcc:0.98515\n",
      "[750]\ttest-logloss:0.03545\ttest-mcc:0.98515\n",
      "[800]\ttest-logloss:0.03543\ttest-mcc:0.98516\n",
      "[850]\ttest-logloss:0.03544\ttest-mcc:0.98517\n",
      "[900]\ttest-logloss:0.03546\ttest-mcc:0.98517\n",
      "[903]\ttest-logloss:0.03546\ttest-mcc:0.98517\n"
     ]
    },
    {
     "name": "stderr",
     "output_type": "stream",
     "text": [
      "[I 2024-08-19 18:42:54,206] Trial 14 finished with value: 0.9850853488000348 and parameters: {'alpha': 0.007429403189085325}. Best is trial 13 with value: 0.9851596015321428.\n"
     ]
    },
    {
     "name": "stdout",
     "output_type": "stream",
     "text": [
      "[0]\ttest-logloss:0.67938\ttest-mcc:0.00000\n"
     ]
    },
    {
     "name": "stderr",
     "output_type": "stream",
     "text": [
      "/tmp/ipykernel_18/2873463128.py:17: RuntimeWarning: invalid value encountered in scalar divide\n",
      "  mcc_fast = (n11f*n00f - n10f*n01f) / (n1_fs*n0_fs*n_0fs*n_1fs)\n",
      "[I 2024-08-19 18:43:05,579] Trial 15 pruned. Trial was pruned at iteration 9.\n"
     ]
    },
    {
     "name": "stdout",
     "output_type": "stream",
     "text": [
      "[0]\ttest-logloss:0.67938\ttest-mcc:0.00000\n"
     ]
    },
    {
     "name": "stderr",
     "output_type": "stream",
     "text": [
      "/tmp/ipykernel_18/2873463128.py:17: RuntimeWarning: invalid value encountered in scalar divide\n",
      "  mcc_fast = (n11f*n00f - n10f*n01f) / (n1_fs*n0_fs*n_0fs*n_1fs)\n",
      "[I 2024-08-19 18:43:17,909] Trial 16 pruned. Trial was pruned at iteration 9.\n"
     ]
    },
    {
     "name": "stdout",
     "output_type": "stream",
     "text": [
      "[0]\ttest-logloss:0.67938\ttest-mcc:0.00000\n"
     ]
    },
    {
     "name": "stderr",
     "output_type": "stream",
     "text": [
      "/tmp/ipykernel_18/2873463128.py:17: RuntimeWarning: invalid value encountered in scalar divide\n",
      "  mcc_fast = (n11f*n00f - n10f*n01f) / (n1_fs*n0_fs*n_0fs*n_1fs)\n",
      "[I 2024-08-19 18:43:29,529] Trial 17 pruned. Trial was pruned at iteration 9.\n"
     ]
    },
    {
     "name": "stdout",
     "output_type": "stream",
     "text": [
      "[0]\ttest-logloss:0.67938\ttest-mcc:0.00000\n"
     ]
    },
    {
     "name": "stderr",
     "output_type": "stream",
     "text": [
      "/tmp/ipykernel_18/2873463128.py:17: RuntimeWarning: invalid value encountered in scalar divide\n",
      "  mcc_fast = (n11f*n00f - n10f*n01f) / (n1_fs*n0_fs*n_0fs*n_1fs)\n",
      "[I 2024-08-19 18:43:40,780] Trial 18 pruned. Trial was pruned at iteration 9.\n"
     ]
    },
    {
     "name": "stdout",
     "output_type": "stream",
     "text": [
      "[0]\ttest-logloss:0.67938\ttest-mcc:0.00000\n"
     ]
    },
    {
     "name": "stderr",
     "output_type": "stream",
     "text": [
      "/tmp/ipykernel_18/2873463128.py:17: RuntimeWarning: invalid value encountered in scalar divide\n",
      "  mcc_fast = (n11f*n00f - n10f*n01f) / (n1_fs*n0_fs*n_0fs*n_1fs)\n"
     ]
    },
    {
     "name": "stdout",
     "output_type": "stream",
     "text": [
      "[50]\ttest-logloss:0.37919\ttest-mcc:0.98392\n"
     ]
    },
    {
     "name": "stderr",
     "output_type": "stream",
     "text": [
      "[I 2024-08-19 18:44:38,832] Trial 19 pruned. Trial was pruned at iteration 81.\n"
     ]
    },
    {
     "name": "stdout",
     "output_type": "stream",
     "text": [
      "[0]\ttest-logloss:0.67938\ttest-mcc:0.00000\n"
     ]
    },
    {
     "name": "stderr",
     "output_type": "stream",
     "text": [
      "/tmp/ipykernel_18/2873463128.py:17: RuntimeWarning: invalid value encountered in scalar divide\n",
      "  mcc_fast = (n11f*n00f - n10f*n01f) / (n1_fs*n0_fs*n_0fs*n_1fs)\n",
      "[I 2024-08-19 18:44:49,955] Trial 20 pruned. Trial was pruned at iteration 9.\n"
     ]
    },
    {
     "name": "stdout",
     "output_type": "stream",
     "text": [
      "[0]\ttest-logloss:0.67938\ttest-mcc:0.00000\n"
     ]
    },
    {
     "name": "stderr",
     "output_type": "stream",
     "text": [
      "/tmp/ipykernel_18/2873463128.py:17: RuntimeWarning: invalid value encountered in scalar divide\n",
      "  mcc_fast = (n11f*n00f - n10f*n01f) / (n1_fs*n0_fs*n_0fs*n_1fs)\n",
      "[I 2024-08-19 18:45:02,998] Trial 21 pruned. Trial was pruned at iteration 9.\n"
     ]
    },
    {
     "name": "stdout",
     "output_type": "stream",
     "text": [
      "[0]\ttest-logloss:0.67938\ttest-mcc:0.00000\n"
     ]
    },
    {
     "name": "stderr",
     "output_type": "stream",
     "text": [
      "/tmp/ipykernel_18/2873463128.py:17: RuntimeWarning: invalid value encountered in scalar divide\n",
      "  mcc_fast = (n11f*n00f - n10f*n01f) / (n1_fs*n0_fs*n_0fs*n_1fs)\n",
      "[I 2024-08-19 18:45:14,151] Trial 22 pruned. Trial was pruned at iteration 9.\n"
     ]
    },
    {
     "name": "stdout",
     "output_type": "stream",
     "text": [
      "[0]\ttest-logloss:0.67938\ttest-mcc:0.00000\n"
     ]
    },
    {
     "name": "stderr",
     "output_type": "stream",
     "text": [
      "/tmp/ipykernel_18/2873463128.py:17: RuntimeWarning: invalid value encountered in scalar divide\n",
      "  mcc_fast = (n11f*n00f - n10f*n01f) / (n1_fs*n0_fs*n_0fs*n_1fs)\n",
      "[I 2024-08-19 18:45:38,989] Trial 23 pruned. Trial was pruned at iteration 27.\n"
     ]
    },
    {
     "name": "stdout",
     "output_type": "stream",
     "text": [
      "[0]\ttest-logloss:0.67938\ttest-mcc:0.00000\n"
     ]
    },
    {
     "name": "stderr",
     "output_type": "stream",
     "text": [
      "/tmp/ipykernel_18/2873463128.py:17: RuntimeWarning: invalid value encountered in scalar divide\n",
      "  mcc_fast = (n11f*n00f - n10f*n01f) / (n1_fs*n0_fs*n_0fs*n_1fs)\n",
      "[I 2024-08-19 18:45:50,353] Trial 24 pruned. Trial was pruned at iteration 9.\n"
     ]
    },
    {
     "name": "stdout",
     "output_type": "stream",
     "text": [
      "[0]\ttest-logloss:0.67938\ttest-mcc:0.00000\n"
     ]
    },
    {
     "name": "stderr",
     "output_type": "stream",
     "text": [
      "/tmp/ipykernel_18/2873463128.py:17: RuntimeWarning: invalid value encountered in scalar divide\n",
      "  mcc_fast = (n11f*n00f - n10f*n01f) / (n1_fs*n0_fs*n_0fs*n_1fs)\n"
     ]
    },
    {
     "name": "stdout",
     "output_type": "stream",
     "text": [
      "[50]\ttest-logloss:0.37891\ttest-mcc:0.98392\n",
      "[100]\ttest-logloss:0.23052\ttest-mcc:0.98474\n",
      "[150]\ttest-logloss:0.14887\ttest-mcc:0.98479\n",
      "[200]\ttest-logloss:0.10279\ttest-mcc:0.98488\n",
      "[250]\ttest-logloss:0.07501\ttest-mcc:0.98493\n",
      "[300]\ttest-logloss:0.05878\ttest-mcc:0.98497\n",
      "[350]\ttest-logloss:0.04899\ttest-mcc:0.98501\n",
      "[400]\ttest-logloss:0.04319\ttest-mcc:0.98505\n",
      "[450]\ttest-logloss:0.03982\ttest-mcc:0.98507\n",
      "[500]\ttest-logloss:0.03783\ttest-mcc:0.98517\n",
      "[550]\ttest-logloss:0.03669\ttest-mcc:0.98517\n",
      "[600]\ttest-logloss:0.03607\ttest-mcc:0.98513\n",
      "[650]\ttest-logloss:0.03572\ttest-mcc:0.98518\n",
      "[700]\ttest-logloss:0.03553\ttest-mcc:0.98516\n",
      "[750]\ttest-logloss:0.03545\ttest-mcc:0.98514\n",
      "[800]\ttest-logloss:0.03542\ttest-mcc:0.98514\n",
      "[850]\ttest-logloss:0.03543\ttest-mcc:0.98515\n",
      "[900]\ttest-logloss:0.03545\ttest-mcc:0.98512\n",
      "[950]\ttest-logloss:0.03547\ttest-mcc:0.98513\n",
      "[1000]\ttest-logloss:0.03548\ttest-mcc:0.98513\n",
      "[1050]\ttest-logloss:0.03549\ttest-mcc:0.98511\n",
      "[1100]\ttest-logloss:0.03549\ttest-mcc:0.98511\n",
      "[1150]\ttest-logloss:0.03549\ttest-mcc:0.98511\n",
      "[1161]\ttest-logloss:0.03549\ttest-mcc:0.98511\n"
     ]
    },
    {
     "name": "stderr",
     "output_type": "stream",
     "text": [
      "[I 2024-08-19 18:58:21,793] Trial 25 finished with value: 0.9851985037906217 and parameters: {'alpha': 0.06488320357425029}. Best is trial 25 with value: 0.9851985037906217.\n"
     ]
    },
    {
     "name": "stdout",
     "output_type": "stream",
     "text": [
      "[0]\ttest-logloss:0.67938\ttest-mcc:0.00000\n"
     ]
    },
    {
     "name": "stderr",
     "output_type": "stream",
     "text": [
      "/tmp/ipykernel_18/2873463128.py:17: RuntimeWarning: invalid value encountered in scalar divide\n",
      "  mcc_fast = (n11f*n00f - n10f*n01f) / (n1_fs*n0_fs*n_0fs*n_1fs)\n",
      "[I 2024-08-19 18:58:32,901] Trial 26 pruned. Trial was pruned at iteration 9.\n"
     ]
    },
    {
     "name": "stdout",
     "output_type": "stream",
     "text": [
      "[0]\ttest-logloss:0.67938\ttest-mcc:0.00000\n"
     ]
    },
    {
     "name": "stderr",
     "output_type": "stream",
     "text": [
      "/tmp/ipykernel_18/2873463128.py:17: RuntimeWarning: invalid value encountered in scalar divide\n",
      "  mcc_fast = (n11f*n00f - n10f*n01f) / (n1_fs*n0_fs*n_0fs*n_1fs)\n",
      "[I 2024-08-19 18:58:45,045] Trial 27 pruned. Trial was pruned at iteration 9.\n"
     ]
    },
    {
     "name": "stdout",
     "output_type": "stream",
     "text": [
      "[0]\ttest-logloss:0.67938\ttest-mcc:0.00000\n"
     ]
    },
    {
     "name": "stderr",
     "output_type": "stream",
     "text": [
      "/tmp/ipykernel_18/2873463128.py:17: RuntimeWarning: invalid value encountered in scalar divide\n",
      "  mcc_fast = (n11f*n00f - n10f*n01f) / (n1_fs*n0_fs*n_0fs*n_1fs)\n",
      "[I 2024-08-19 18:58:56,435] Trial 28 pruned. Trial was pruned at iteration 9.\n"
     ]
    },
    {
     "name": "stdout",
     "output_type": "stream",
     "text": [
      "[0]\ttest-logloss:0.67938\ttest-mcc:0.00000\n"
     ]
    },
    {
     "name": "stderr",
     "output_type": "stream",
     "text": [
      "/tmp/ipykernel_18/2873463128.py:17: RuntimeWarning: invalid value encountered in scalar divide\n",
      "  mcc_fast = (n11f*n00f - n10f*n01f) / (n1_fs*n0_fs*n_0fs*n_1fs)\n",
      "[I 2024-08-19 18:59:07,814] Trial 29 pruned. Trial was pruned at iteration 9.\n"
     ]
    },
    {
     "name": "stdout",
     "output_type": "stream",
     "text": [
      "[0]\ttest-logloss:0.67938\ttest-mcc:0.00000\n"
     ]
    },
    {
     "name": "stderr",
     "output_type": "stream",
     "text": [
      "/tmp/ipykernel_18/2873463128.py:17: RuntimeWarning: invalid value encountered in scalar divide\n",
      "  mcc_fast = (n11f*n00f - n10f*n01f) / (n1_fs*n0_fs*n_0fs*n_1fs)\n",
      "[I 2024-08-19 18:59:19,081] Trial 30 pruned. Trial was pruned at iteration 9.\n"
     ]
    },
    {
     "name": "stdout",
     "output_type": "stream",
     "text": [
      "[0]\ttest-logloss:0.67938\ttest-mcc:0.00000\n"
     ]
    },
    {
     "name": "stderr",
     "output_type": "stream",
     "text": [
      "/tmp/ipykernel_18/2873463128.py:17: RuntimeWarning: invalid value encountered in scalar divide\n",
      "  mcc_fast = (n11f*n00f - n10f*n01f) / (n1_fs*n0_fs*n_0fs*n_1fs)\n"
     ]
    },
    {
     "name": "stdout",
     "output_type": "stream",
     "text": [
      "[50]\ttest-logloss:0.37907\ttest-mcc:0.98393\n",
      "[100]\ttest-logloss:0.23041\ttest-mcc:0.98477\n",
      "[150]\ttest-logloss:0.14877\ttest-mcc:0.98477\n",
      "[200]\ttest-logloss:0.10263\ttest-mcc:0.98491\n",
      "[250]\ttest-logloss:0.07489\ttest-mcc:0.98496\n",
      "[300]\ttest-logloss:0.05869\ttest-mcc:0.98495\n",
      "[350]\ttest-logloss:0.04892\ttest-mcc:0.98502\n",
      "[400]\ttest-logloss:0.04313\ttest-mcc:0.98509\n",
      "[450]\ttest-logloss:0.03977\ttest-mcc:0.98511\n",
      "[500]\ttest-logloss:0.03780\ttest-mcc:0.98515\n",
      "[550]\ttest-logloss:0.03667\ttest-mcc:0.98516\n",
      "[600]\ttest-logloss:0.03606\ttest-mcc:0.98515\n",
      "[650]\ttest-logloss:0.03572\ttest-mcc:0.98517\n",
      "[700]\ttest-logloss:0.03554\ttest-mcc:0.98516\n"
     ]
    },
    {
     "name": "stderr",
     "output_type": "stream",
     "text": [
      "[I 2024-08-19 19:07:39,678] Trial 31 pruned. Trial was pruned at iteration 729.\n"
     ]
    },
    {
     "name": "stdout",
     "output_type": "stream",
     "text": [
      "[0]\ttest-logloss:0.67938\ttest-mcc:0.00000\n"
     ]
    },
    {
     "name": "stderr",
     "output_type": "stream",
     "text": [
      "/tmp/ipykernel_18/2873463128.py:17: RuntimeWarning: invalid value encountered in scalar divide\n",
      "  mcc_fast = (n11f*n00f - n10f*n01f) / (n1_fs*n0_fs*n_0fs*n_1fs)\n",
      "[I 2024-08-19 19:08:03,034] Trial 32 pruned. Trial was pruned at iteration 27.\n"
     ]
    },
    {
     "name": "stdout",
     "output_type": "stream",
     "text": [
      "[0]\ttest-logloss:0.67939\ttest-mcc:0.00000\n"
     ]
    },
    {
     "name": "stderr",
     "output_type": "stream",
     "text": [
      "/tmp/ipykernel_18/2873463128.py:17: RuntimeWarning: invalid value encountered in scalar divide\n",
      "  mcc_fast = (n11f*n00f - n10f*n01f) / (n1_fs*n0_fs*n_0fs*n_1fs)\n",
      "[I 2024-08-19 19:08:15,049] Trial 33 pruned. Trial was pruned at iteration 9.\n"
     ]
    },
    {
     "name": "stdout",
     "output_type": "stream",
     "text": [
      "[0]\ttest-logloss:0.67940\ttest-mcc:0.00000\n"
     ]
    },
    {
     "name": "stderr",
     "output_type": "stream",
     "text": [
      "/tmp/ipykernel_18/2873463128.py:17: RuntimeWarning: invalid value encountered in scalar divide\n",
      "  mcc_fast = (n11f*n00f - n10f*n01f) / (n1_fs*n0_fs*n_0fs*n_1fs)\n",
      "[I 2024-08-19 19:08:25,481] Trial 34 pruned. Trial was pruned at iteration 9.\n"
     ]
    },
    {
     "name": "stdout",
     "output_type": "stream",
     "text": [
      "[0]\ttest-logloss:0.67938\ttest-mcc:0.00000\n"
     ]
    },
    {
     "name": "stderr",
     "output_type": "stream",
     "text": [
      "/tmp/ipykernel_18/2873463128.py:17: RuntimeWarning: invalid value encountered in scalar divide\n",
      "  mcc_fast = (n11f*n00f - n10f*n01f) / (n1_fs*n0_fs*n_0fs*n_1fs)\n",
      "[I 2024-08-19 19:08:37,050] Trial 35 pruned. Trial was pruned at iteration 9.\n"
     ]
    },
    {
     "name": "stdout",
     "output_type": "stream",
     "text": [
      "[0]\ttest-logloss:0.67938\ttest-mcc:0.00000\n"
     ]
    },
    {
     "name": "stderr",
     "output_type": "stream",
     "text": [
      "/tmp/ipykernel_18/2873463128.py:17: RuntimeWarning: invalid value encountered in scalar divide\n",
      "  mcc_fast = (n11f*n00f - n10f*n01f) / (n1_fs*n0_fs*n_0fs*n_1fs)\n",
      "[I 2024-08-19 19:08:48,782] Trial 36 pruned. Trial was pruned at iteration 9.\n"
     ]
    },
    {
     "name": "stdout",
     "output_type": "stream",
     "text": [
      "[0]\ttest-logloss:0.67938\ttest-mcc:0.00000\n"
     ]
    },
    {
     "name": "stderr",
     "output_type": "stream",
     "text": [
      "/tmp/ipykernel_18/2873463128.py:17: RuntimeWarning: invalid value encountered in scalar divide\n",
      "  mcc_fast = (n11f*n00f - n10f*n01f) / (n1_fs*n0_fs*n_0fs*n_1fs)\n",
      "[I 2024-08-19 19:09:13,912] Trial 37 pruned. Trial was pruned at iteration 27.\n"
     ]
    },
    {
     "name": "stdout",
     "output_type": "stream",
     "text": [
      "[0]\ttest-logloss:0.67938\ttest-mcc:0.00000\n"
     ]
    },
    {
     "name": "stderr",
     "output_type": "stream",
     "text": [
      "/tmp/ipykernel_18/2873463128.py:17: RuntimeWarning: invalid value encountered in scalar divide\n",
      "  mcc_fast = (n11f*n00f - n10f*n01f) / (n1_fs*n0_fs*n_0fs*n_1fs)\n",
      "[I 2024-08-19 19:09:37,523] Trial 38 pruned. Trial was pruned at iteration 27.\n"
     ]
    },
    {
     "name": "stdout",
     "output_type": "stream",
     "text": [
      "[0]\ttest-logloss:0.67938\ttest-mcc:0.00000\n"
     ]
    },
    {
     "name": "stderr",
     "output_type": "stream",
     "text": [
      "/tmp/ipykernel_18/2873463128.py:17: RuntimeWarning: invalid value encountered in scalar divide\n",
      "  mcc_fast = (n11f*n00f - n10f*n01f) / (n1_fs*n0_fs*n_0fs*n_1fs)\n",
      "[I 2024-08-19 19:10:02,394] Trial 39 pruned. Trial was pruned at iteration 27.\n"
     ]
    },
    {
     "name": "stdout",
     "output_type": "stream",
     "text": [
      "[0]\ttest-logloss:0.67938\ttest-mcc:0.00000\n"
     ]
    },
    {
     "name": "stderr",
     "output_type": "stream",
     "text": [
      "/tmp/ipykernel_18/2873463128.py:17: RuntimeWarning: invalid value encountered in scalar divide\n",
      "  mcc_fast = (n11f*n00f - n10f*n01f) / (n1_fs*n0_fs*n_0fs*n_1fs)\n"
     ]
    },
    {
     "name": "stdout",
     "output_type": "stream",
     "text": [
      "[50]\ttest-logloss:0.37919\ttest-mcc:0.98392\n",
      "[100]\ttest-logloss:0.23053\ttest-mcc:0.98475\n",
      "[150]\ttest-logloss:0.14884\ttest-mcc:0.98479\n",
      "[200]\ttest-logloss:0.10267\ttest-mcc:0.98488\n",
      "[250]\ttest-logloss:0.07496\ttest-mcc:0.98493\n",
      "[300]\ttest-logloss:0.05874\ttest-mcc:0.98496\n",
      "[350]\ttest-logloss:0.04895\ttest-mcc:0.98503\n",
      "[400]\ttest-logloss:0.04315\ttest-mcc:0.98509\n",
      "[450]\ttest-logloss:0.03979\ttest-mcc:0.98511\n",
      "[500]\ttest-logloss:0.03780\ttest-mcc:0.98515\n",
      "[550]\ttest-logloss:0.03668\ttest-mcc:0.98516\n",
      "[600]\ttest-logloss:0.03606\ttest-mcc:0.98514\n",
      "[650]\ttest-logloss:0.03572\ttest-mcc:0.98516\n",
      "[700]\ttest-logloss:0.03554\ttest-mcc:0.98515\n",
      "[750]\ttest-logloss:0.03546\ttest-mcc:0.98512\n",
      "[800]\ttest-logloss:0.03543\ttest-mcc:0.98511\n",
      "[850]\ttest-logloss:0.03545\ttest-mcc:0.98514\n",
      "[900]\ttest-logloss:0.03547\ttest-mcc:0.98513\n",
      "[950]\ttest-logloss:0.03549\ttest-mcc:0.98513\n",
      "[973]\ttest-logloss:0.03550\ttest-mcc:0.98514\n"
     ]
    },
    {
     "name": "stderr",
     "output_type": "stream",
     "text": [
      "[I 2024-08-19 19:21:36,674] Trial 40 finished with value: 0.9851305060083169 and parameters: {'alpha': 2.4571851131970085e-06}. Best is trial 25 with value: 0.9851985037906217.\n"
     ]
    },
    {
     "name": "stdout",
     "output_type": "stream",
     "text": [
      "[0]\ttest-logloss:0.67938\ttest-mcc:0.00000\n"
     ]
    },
    {
     "name": "stderr",
     "output_type": "stream",
     "text": [
      "/tmp/ipykernel_18/2873463128.py:17: RuntimeWarning: invalid value encountered in scalar divide\n",
      "  mcc_fast = (n11f*n00f - n10f*n01f) / (n1_fs*n0_fs*n_0fs*n_1fs)\n",
      "[I 2024-08-19 19:21:48,031] Trial 41 pruned. Trial was pruned at iteration 9.\n"
     ]
    },
    {
     "name": "stdout",
     "output_type": "stream",
     "text": [
      "[0]\ttest-logloss:0.67938\ttest-mcc:0.00000\n"
     ]
    },
    {
     "name": "stderr",
     "output_type": "stream",
     "text": [
      "/tmp/ipykernel_18/2873463128.py:17: RuntimeWarning: invalid value encountered in scalar divide\n",
      "  mcc_fast = (n11f*n00f - n10f*n01f) / (n1_fs*n0_fs*n_0fs*n_1fs)\n"
     ]
    },
    {
     "name": "stdout",
     "output_type": "stream",
     "text": [
      "[50]\ttest-logloss:0.37919\ttest-mcc:0.98392\n",
      "[100]\ttest-logloss:0.23053\ttest-mcc:0.98475\n",
      "[150]\ttest-logloss:0.14884\ttest-mcc:0.98478\n",
      "[200]\ttest-logloss:0.10267\ttest-mcc:0.98489\n"
     ]
    },
    {
     "name": "stderr",
     "output_type": "stream",
     "text": [
      "[I 2024-08-19 19:24:24,096] Trial 42 pruned. Trial was pruned at iteration 243.\n"
     ]
    },
    {
     "name": "stdout",
     "output_type": "stream",
     "text": [
      "[0]\ttest-logloss:0.67938\ttest-mcc:0.00000\n"
     ]
    },
    {
     "name": "stderr",
     "output_type": "stream",
     "text": [
      "/tmp/ipykernel_18/2873463128.py:17: RuntimeWarning: invalid value encountered in scalar divide\n",
      "  mcc_fast = (n11f*n00f - n10f*n01f) / (n1_fs*n0_fs*n_0fs*n_1fs)\n"
     ]
    },
    {
     "name": "stdout",
     "output_type": "stream",
     "text": [
      "[50]\ttest-logloss:0.37919\ttest-mcc:0.98392\n",
      "[100]\ttest-logloss:0.23053\ttest-mcc:0.98475\n",
      "[150]\ttest-logloss:0.14884\ttest-mcc:0.98478\n",
      "[200]\ttest-logloss:0.10267\ttest-mcc:0.98489\n"
     ]
    },
    {
     "name": "stderr",
     "output_type": "stream",
     "text": [
      "[I 2024-08-19 19:27:05,803] Trial 43 pruned. Trial was pruned at iteration 243.\n"
     ]
    },
    {
     "name": "stdout",
     "output_type": "stream",
     "text": [
      "[0]\ttest-logloss:0.67938\ttest-mcc:0.00000\n"
     ]
    },
    {
     "name": "stderr",
     "output_type": "stream",
     "text": [
      "/tmp/ipykernel_18/2873463128.py:17: RuntimeWarning: invalid value encountered in scalar divide\n",
      "  mcc_fast = (n11f*n00f - n10f*n01f) / (n1_fs*n0_fs*n_0fs*n_1fs)\n"
     ]
    },
    {
     "name": "stdout",
     "output_type": "stream",
     "text": [
      "[50]\ttest-logloss:0.37919\ttest-mcc:0.98392\n"
     ]
    },
    {
     "name": "stderr",
     "output_type": "stream",
     "text": [
      "[I 2024-08-19 19:28:04,864] Trial 44 pruned. Trial was pruned at iteration 81.\n"
     ]
    },
    {
     "name": "stdout",
     "output_type": "stream",
     "text": [
      "[0]\ttest-logloss:0.67938\ttest-mcc:0.00000\n"
     ]
    },
    {
     "name": "stderr",
     "output_type": "stream",
     "text": [
      "/tmp/ipykernel_18/2873463128.py:17: RuntimeWarning: invalid value encountered in scalar divide\n",
      "  mcc_fast = (n11f*n00f - n10f*n01f) / (n1_fs*n0_fs*n_0fs*n_1fs)\n",
      "[I 2024-08-19 19:28:16,959] Trial 45 pruned. Trial was pruned at iteration 9.\n"
     ]
    },
    {
     "name": "stdout",
     "output_type": "stream",
     "text": [
      "[0]\ttest-logloss:0.67938\ttest-mcc:0.00000\n"
     ]
    },
    {
     "name": "stderr",
     "output_type": "stream",
     "text": [
      "/tmp/ipykernel_18/2873463128.py:17: RuntimeWarning: invalid value encountered in scalar divide\n",
      "  mcc_fast = (n11f*n00f - n10f*n01f) / (n1_fs*n0_fs*n_0fs*n_1fs)\n",
      "[I 2024-08-19 19:28:28,418] Trial 46 pruned. Trial was pruned at iteration 9.\n"
     ]
    },
    {
     "name": "stdout",
     "output_type": "stream",
     "text": [
      "[0]\ttest-logloss:0.67938\ttest-mcc:0.00000\n"
     ]
    },
    {
     "name": "stderr",
     "output_type": "stream",
     "text": [
      "/tmp/ipykernel_18/2873463128.py:17: RuntimeWarning: invalid value encountered in scalar divide\n",
      "  mcc_fast = (n11f*n00f - n10f*n01f) / (n1_fs*n0_fs*n_0fs*n_1fs)\n",
      "[I 2024-08-19 19:28:40,925] Trial 47 pruned. Trial was pruned at iteration 9.\n"
     ]
    },
    {
     "name": "stdout",
     "output_type": "stream",
     "text": [
      "[0]\ttest-logloss:0.67938\ttest-mcc:0.00000\n"
     ]
    },
    {
     "name": "stderr",
     "output_type": "stream",
     "text": [
      "/tmp/ipykernel_18/2873463128.py:17: RuntimeWarning: invalid value encountered in scalar divide\n",
      "  mcc_fast = (n11f*n00f - n10f*n01f) / (n1_fs*n0_fs*n_0fs*n_1fs)\n",
      "[I 2024-08-19 19:28:52,347] Trial 48 pruned. Trial was pruned at iteration 9.\n"
     ]
    },
    {
     "name": "stdout",
     "output_type": "stream",
     "text": [
      "[0]\ttest-logloss:0.67938\ttest-mcc:0.00000\n"
     ]
    },
    {
     "name": "stderr",
     "output_type": "stream",
     "text": [
      "/tmp/ipykernel_18/2873463128.py:17: RuntimeWarning: invalid value encountered in scalar divide\n",
      "  mcc_fast = (n11f*n00f - n10f*n01f) / (n1_fs*n0_fs*n_0fs*n_1fs)\n",
      "[I 2024-08-19 19:29:03,723] Trial 49 pruned. Trial was pruned at iteration 9.\n"
     ]
    },
    {
     "name": "stdout",
     "output_type": "stream",
     "text": [
      "[0]\ttest-logloss:0.67938\ttest-mcc:0.00000\n"
     ]
    },
    {
     "name": "stderr",
     "output_type": "stream",
     "text": [
      "/tmp/ipykernel_18/2873463128.py:17: RuntimeWarning: invalid value encountered in scalar divide\n",
      "  mcc_fast = (n11f*n00f - n10f*n01f) / (n1_fs*n0_fs*n_0fs*n_1fs)\n"
     ]
    },
    {
     "name": "stdout",
     "output_type": "stream",
     "text": [
      "[50]\ttest-logloss:0.37919\ttest-mcc:0.98392\n"
     ]
    },
    {
     "name": "stderr",
     "output_type": "stream",
     "text": [
      "[I 2024-08-19 19:30:01,877] Trial 50 pruned. Trial was pruned at iteration 81.\n"
     ]
    },
    {
     "name": "stdout",
     "output_type": "stream",
     "text": [
      "[0]\ttest-logloss:0.67938\ttest-mcc:0.00000\n"
     ]
    },
    {
     "name": "stderr",
     "output_type": "stream",
     "text": [
      "/tmp/ipykernel_18/2873463128.py:17: RuntimeWarning: invalid value encountered in scalar divide\n",
      "  mcc_fast = (n11f*n00f - n10f*n01f) / (n1_fs*n0_fs*n_0fs*n_1fs)\n",
      "[I 2024-08-19 19:30:26,596] Trial 51 pruned. Trial was pruned at iteration 27.\n"
     ]
    },
    {
     "name": "stdout",
     "output_type": "stream",
     "text": [
      "[0]\ttest-logloss:0.67938\ttest-mcc:0.00000\n"
     ]
    },
    {
     "name": "stderr",
     "output_type": "stream",
     "text": [
      "/tmp/ipykernel_18/2873463128.py:17: RuntimeWarning: invalid value encountered in scalar divide\n",
      "  mcc_fast = (n11f*n00f - n10f*n01f) / (n1_fs*n0_fs*n_0fs*n_1fs)\n"
     ]
    },
    {
     "name": "stdout",
     "output_type": "stream",
     "text": [
      "[50]\ttest-logloss:0.37919\ttest-mcc:0.98392\n",
      "[100]\ttest-logloss:0.23053\ttest-mcc:0.98475\n",
      "[150]\ttest-logloss:0.14884\ttest-mcc:0.98478\n",
      "[200]\ttest-logloss:0.10267\ttest-mcc:0.98489\n"
     ]
    },
    {
     "name": "stderr",
     "output_type": "stream",
     "text": [
      "[I 2024-08-19 19:33:06,835] Trial 52 pruned. Trial was pruned at iteration 243.\n"
     ]
    },
    {
     "name": "stdout",
     "output_type": "stream",
     "text": [
      "[0]\ttest-logloss:0.67938\ttest-mcc:0.00000\n"
     ]
    },
    {
     "name": "stderr",
     "output_type": "stream",
     "text": [
      "/tmp/ipykernel_18/2873463128.py:17: RuntimeWarning: invalid value encountered in scalar divide\n",
      "  mcc_fast = (n11f*n00f - n10f*n01f) / (n1_fs*n0_fs*n_0fs*n_1fs)\n"
     ]
    },
    {
     "name": "stdout",
     "output_type": "stream",
     "text": [
      "[50]\ttest-logloss:0.37919\ttest-mcc:0.98392\n",
      "[100]\ttest-logloss:0.23053\ttest-mcc:0.98475\n",
      "[150]\ttest-logloss:0.14884\ttest-mcc:0.98478\n",
      "[200]\ttest-logloss:0.10267\ttest-mcc:0.98489\n"
     ]
    },
    {
     "name": "stderr",
     "output_type": "stream",
     "text": [
      "[I 2024-08-19 19:35:48,581] Trial 53 pruned. Trial was pruned at iteration 243.\n"
     ]
    },
    {
     "name": "stdout",
     "output_type": "stream",
     "text": [
      "[0]\ttest-logloss:0.67938\ttest-mcc:0.00000\n"
     ]
    },
    {
     "name": "stderr",
     "output_type": "stream",
     "text": [
      "/tmp/ipykernel_18/2873463128.py:17: RuntimeWarning: invalid value encountered in scalar divide\n",
      "  mcc_fast = (n11f*n00f - n10f*n01f) / (n1_fs*n0_fs*n_0fs*n_1fs)\n"
     ]
    },
    {
     "name": "stdout",
     "output_type": "stream",
     "text": [
      "[50]\ttest-logloss:0.37919\ttest-mcc:0.98392\n",
      "[100]\ttest-logloss:0.23053\ttest-mcc:0.98475\n",
      "[150]\ttest-logloss:0.14884\ttest-mcc:0.98478\n",
      "[200]\ttest-logloss:0.10267\ttest-mcc:0.98488\n"
     ]
    },
    {
     "name": "stderr",
     "output_type": "stream",
     "text": [
      "[I 2024-08-19 19:38:28,738] Trial 54 pruned. Trial was pruned at iteration 243.\n"
     ]
    },
    {
     "name": "stdout",
     "output_type": "stream",
     "text": [
      "[0]\ttest-logloss:0.67938\ttest-mcc:0.00000\n"
     ]
    },
    {
     "name": "stderr",
     "output_type": "stream",
     "text": [
      "/tmp/ipykernel_18/2873463128.py:17: RuntimeWarning: invalid value encountered in scalar divide\n",
      "  mcc_fast = (n11f*n00f - n10f*n01f) / (n1_fs*n0_fs*n_0fs*n_1fs)\n",
      "[I 2024-08-19 19:38:40,302] Trial 55 pruned. Trial was pruned at iteration 9.\n"
     ]
    },
    {
     "name": "stdout",
     "output_type": "stream",
     "text": [
      "[0]\ttest-logloss:0.67938\ttest-mcc:0.00000\n"
     ]
    },
    {
     "name": "stderr",
     "output_type": "stream",
     "text": [
      "/tmp/ipykernel_18/2873463128.py:17: RuntimeWarning: invalid value encountered in scalar divide\n",
      "  mcc_fast = (n11f*n00f - n10f*n01f) / (n1_fs*n0_fs*n_0fs*n_1fs)\n"
     ]
    },
    {
     "name": "stdout",
     "output_type": "stream",
     "text": [
      "[50]\ttest-logloss:0.37919\ttest-mcc:0.98392\n",
      "[100]\ttest-logloss:0.23053\ttest-mcc:0.98475\n",
      "[150]\ttest-logloss:0.14884\ttest-mcc:0.98478\n",
      "[200]\ttest-logloss:0.10267\ttest-mcc:0.98489\n"
     ]
    },
    {
     "name": "stderr",
     "output_type": "stream",
     "text": [
      "[I 2024-08-19 19:41:19,729] Trial 56 pruned. Trial was pruned at iteration 243.\n"
     ]
    },
    {
     "name": "stdout",
     "output_type": "stream",
     "text": [
      "[0]\ttest-logloss:0.67938\ttest-mcc:0.00000\n"
     ]
    },
    {
     "name": "stderr",
     "output_type": "stream",
     "text": [
      "/tmp/ipykernel_18/2873463128.py:17: RuntimeWarning: invalid value encountered in scalar divide\n",
      "  mcc_fast = (n11f*n00f - n10f*n01f) / (n1_fs*n0_fs*n_0fs*n_1fs)\n",
      "[I 2024-08-19 19:41:31,323] Trial 57 pruned. Trial was pruned at iteration 9.\n"
     ]
    },
    {
     "name": "stdout",
     "output_type": "stream",
     "text": [
      "[0]\ttest-logloss:0.67938\ttest-mcc:0.00000\n"
     ]
    },
    {
     "name": "stderr",
     "output_type": "stream",
     "text": [
      "/tmp/ipykernel_18/2873463128.py:17: RuntimeWarning: invalid value encountered in scalar divide\n",
      "  mcc_fast = (n11f*n00f - n10f*n01f) / (n1_fs*n0_fs*n_0fs*n_1fs)\n"
     ]
    },
    {
     "name": "stdout",
     "output_type": "stream",
     "text": [
      "[50]\ttest-logloss:0.37919\ttest-mcc:0.98392\n",
      "[100]\ttest-logloss:0.23053\ttest-mcc:0.98475\n",
      "[150]\ttest-logloss:0.14884\ttest-mcc:0.98478\n",
      "[200]\ttest-logloss:0.10267\ttest-mcc:0.98489\n",
      "[250]\ttest-logloss:0.07497\ttest-mcc:0.98492\n",
      "[300]\ttest-logloss:0.05874\ttest-mcc:0.98496\n",
      "[350]\ttest-logloss:0.04894\ttest-mcc:0.98504\n",
      "[400]\ttest-logloss:0.04314\ttest-mcc:0.98509\n",
      "[450]\ttest-logloss:0.03978\ttest-mcc:0.98511\n",
      "[500]\ttest-logloss:0.03780\ttest-mcc:0.98515\n",
      "[550]\ttest-logloss:0.03667\ttest-mcc:0.98513\n",
      "[600]\ttest-logloss:0.03606\ttest-mcc:0.98515\n",
      "[650]\ttest-logloss:0.03572\ttest-mcc:0.98516\n",
      "[700]\ttest-logloss:0.03554\ttest-mcc:0.98514\n"
     ]
    },
    {
     "name": "stderr",
     "output_type": "stream",
     "text": [
      "[I 2024-08-19 19:49:51,585] Trial 58 pruned. Trial was pruned at iteration 729.\n"
     ]
    },
    {
     "name": "stdout",
     "output_type": "stream",
     "text": [
      "[0]\ttest-logloss:0.67938\ttest-mcc:0.00000\n"
     ]
    },
    {
     "name": "stderr",
     "output_type": "stream",
     "text": [
      "/tmp/ipykernel_18/2873463128.py:17: RuntimeWarning: invalid value encountered in scalar divide\n",
      "  mcc_fast = (n11f*n00f - n10f*n01f) / (n1_fs*n0_fs*n_0fs*n_1fs)\n",
      "[I 2024-08-19 19:50:03,227] Trial 59 pruned. Trial was pruned at iteration 9.\n"
     ]
    },
    {
     "name": "stdout",
     "output_type": "stream",
     "text": [
      "[0]\ttest-logloss:0.67938\ttest-mcc:0.00000\n"
     ]
    },
    {
     "name": "stderr",
     "output_type": "stream",
     "text": [
      "/tmp/ipykernel_18/2873463128.py:17: RuntimeWarning: invalid value encountered in scalar divide\n",
      "  mcc_fast = (n11f*n00f - n10f*n01f) / (n1_fs*n0_fs*n_0fs*n_1fs)\n",
      "[I 2024-08-19 19:50:14,813] Trial 60 pruned. Trial was pruned at iteration 9.\n"
     ]
    },
    {
     "name": "stdout",
     "output_type": "stream",
     "text": [
      "[0]\ttest-logloss:0.67938\ttest-mcc:0.00000\n"
     ]
    },
    {
     "name": "stderr",
     "output_type": "stream",
     "text": [
      "/tmp/ipykernel_18/2873463128.py:17: RuntimeWarning: invalid value encountered in scalar divide\n",
      "  mcc_fast = (n11f*n00f - n10f*n01f) / (n1_fs*n0_fs*n_0fs*n_1fs)\n"
     ]
    },
    {
     "name": "stdout",
     "output_type": "stream",
     "text": [
      "[50]\ttest-logloss:0.37885\ttest-mcc:0.98396\n",
      "[100]\ttest-logloss:0.23010\ttest-mcc:0.98476\n",
      "[150]\ttest-logloss:0.14865\ttest-mcc:0.98478\n",
      "[200]\ttest-logloss:0.10256\ttest-mcc:0.98491\n",
      "[250]\ttest-logloss:0.07484\ttest-mcc:0.98496\n",
      "[300]\ttest-logloss:0.05866\ttest-mcc:0.98500\n",
      "[350]\ttest-logloss:0.04890\ttest-mcc:0.98505\n",
      "[400]\ttest-logloss:0.04311\ttest-mcc:0.98509\n",
      "[450]\ttest-logloss:0.03977\ttest-mcc:0.98511\n",
      "[500]\ttest-logloss:0.03779\ttest-mcc:0.98515\n",
      "[550]\ttest-logloss:0.03666\ttest-mcc:0.98515\n",
      "[600]\ttest-logloss:0.03606\ttest-mcc:0.98516\n",
      "[650]\ttest-logloss:0.03572\ttest-mcc:0.98520\n",
      "[700]\ttest-logloss:0.03553\ttest-mcc:0.98515\n",
      "[750]\ttest-logloss:0.03545\ttest-mcc:0.98516\n",
      "[800]\ttest-logloss:0.03543\ttest-mcc:0.98512\n",
      "[850]\ttest-logloss:0.03545\ttest-mcc:0.98511\n",
      "[900]\ttest-logloss:0.03547\ttest-mcc:0.98513\n",
      "[929]\ttest-logloss:0.03549\ttest-mcc:0.98511\n"
     ]
    },
    {
     "name": "stderr",
     "output_type": "stream",
     "text": [
      "[I 2024-08-19 20:01:21,322] Trial 61 finished with value: 0.9851111963424792 and parameters: {'alpha': 0.005344198716778642}. Best is trial 25 with value: 0.9851985037906217.\n"
     ]
    },
    {
     "name": "stdout",
     "output_type": "stream",
     "text": [
      "[0]\ttest-logloss:0.67938\ttest-mcc:0.00000\n"
     ]
    },
    {
     "name": "stderr",
     "output_type": "stream",
     "text": [
      "/tmp/ipykernel_18/2873463128.py:17: RuntimeWarning: invalid value encountered in scalar divide\n",
      "  mcc_fast = (n11f*n00f - n10f*n01f) / (n1_fs*n0_fs*n_0fs*n_1fs)\n",
      "[I 2024-08-19 20:01:46,043] Trial 62 pruned. Trial was pruned at iteration 27.\n"
     ]
    },
    {
     "name": "stdout",
     "output_type": "stream",
     "text": [
      "[0]\ttest-logloss:0.67938\ttest-mcc:0.00000\n"
     ]
    },
    {
     "name": "stderr",
     "output_type": "stream",
     "text": [
      "/tmp/ipykernel_18/2873463128.py:17: RuntimeWarning: invalid value encountered in scalar divide\n",
      "  mcc_fast = (n11f*n00f - n10f*n01f) / (n1_fs*n0_fs*n_0fs*n_1fs)\n",
      "[I 2024-08-19 20:01:57,783] Trial 63 pruned. Trial was pruned at iteration 9.\n"
     ]
    },
    {
     "name": "stdout",
     "output_type": "stream",
     "text": [
      "[0]\ttest-logloss:0.67938\ttest-mcc:0.00000\n"
     ]
    },
    {
     "name": "stderr",
     "output_type": "stream",
     "text": [
      "/tmp/ipykernel_18/2873463128.py:17: RuntimeWarning: invalid value encountered in scalar divide\n",
      "  mcc_fast = (n11f*n00f - n10f*n01f) / (n1_fs*n0_fs*n_0fs*n_1fs)\n",
      "[I 2024-08-19 20:02:10,861] Trial 64 pruned. Trial was pruned at iteration 9.\n"
     ]
    },
    {
     "name": "stdout",
     "output_type": "stream",
     "text": [
      "[0]\ttest-logloss:0.67938\ttest-mcc:0.00000\n"
     ]
    },
    {
     "name": "stderr",
     "output_type": "stream",
     "text": [
      "/tmp/ipykernel_18/2873463128.py:17: RuntimeWarning: invalid value encountered in scalar divide\n",
      "  mcc_fast = (n11f*n00f - n10f*n01f) / (n1_fs*n0_fs*n_0fs*n_1fs)\n",
      "[I 2024-08-19 20:02:22,600] Trial 65 pruned. Trial was pruned at iteration 9.\n"
     ]
    },
    {
     "name": "stdout",
     "output_type": "stream",
     "text": [
      "[0]\ttest-logloss:0.67938\ttest-mcc:0.00000\n"
     ]
    },
    {
     "name": "stderr",
     "output_type": "stream",
     "text": [
      "/tmp/ipykernel_18/2873463128.py:17: RuntimeWarning: invalid value encountered in scalar divide\n",
      "  mcc_fast = (n11f*n00f - n10f*n01f) / (n1_fs*n0_fs*n_0fs*n_1fs)\n",
      "[I 2024-08-19 20:02:33,968] Trial 66 pruned. Trial was pruned at iteration 9.\n"
     ]
    },
    {
     "name": "stdout",
     "output_type": "stream",
     "text": [
      "[0]\ttest-logloss:0.67938\ttest-mcc:0.00000\n"
     ]
    },
    {
     "name": "stderr",
     "output_type": "stream",
     "text": [
      "/tmp/ipykernel_18/2873463128.py:17: RuntimeWarning: invalid value encountered in scalar divide\n",
      "  mcc_fast = (n11f*n00f - n10f*n01f) / (n1_fs*n0_fs*n_0fs*n_1fs)\n",
      "[I 2024-08-19 20:02:46,341] Trial 67 pruned. Trial was pruned at iteration 9.\n"
     ]
    },
    {
     "name": "stdout",
     "output_type": "stream",
     "text": [
      "[0]\ttest-logloss:0.67938\ttest-mcc:0.00000\n"
     ]
    },
    {
     "name": "stderr",
     "output_type": "stream",
     "text": [
      "/tmp/ipykernel_18/2873463128.py:17: RuntimeWarning: invalid value encountered in scalar divide\n",
      "  mcc_fast = (n11f*n00f - n10f*n01f) / (n1_fs*n0_fs*n_0fs*n_1fs)\n",
      "[I 2024-08-19 20:02:57,588] Trial 68 pruned. Trial was pruned at iteration 9.\n"
     ]
    },
    {
     "name": "stdout",
     "output_type": "stream",
     "text": [
      "[0]\ttest-logloss:0.67938\ttest-mcc:0.00000\n"
     ]
    },
    {
     "name": "stderr",
     "output_type": "stream",
     "text": [
      "/tmp/ipykernel_18/2873463128.py:17: RuntimeWarning: invalid value encountered in scalar divide\n",
      "  mcc_fast = (n11f*n00f - n10f*n01f) / (n1_fs*n0_fs*n_0fs*n_1fs)\n",
      "[I 2024-08-19 20:03:09,213] Trial 69 pruned. Trial was pruned at iteration 9.\n"
     ]
    },
    {
     "name": "stdout",
     "output_type": "stream",
     "text": [
      "[0]\ttest-logloss:0.67938\ttest-mcc:0.00000\n"
     ]
    },
    {
     "name": "stderr",
     "output_type": "stream",
     "text": [
      "/tmp/ipykernel_18/2873463128.py:17: RuntimeWarning: invalid value encountered in scalar divide\n",
      "  mcc_fast = (n11f*n00f - n10f*n01f) / (n1_fs*n0_fs*n_0fs*n_1fs)\n",
      "[I 2024-08-19 20:03:20,710] Trial 70 pruned. Trial was pruned at iteration 9.\n"
     ]
    },
    {
     "name": "stdout",
     "output_type": "stream",
     "text": [
      "[0]\ttest-logloss:0.67938\ttest-mcc:0.00000\n"
     ]
    },
    {
     "name": "stderr",
     "output_type": "stream",
     "text": [
      "/tmp/ipykernel_18/2873463128.py:17: RuntimeWarning: invalid value encountered in scalar divide\n",
      "  mcc_fast = (n11f*n00f - n10f*n01f) / (n1_fs*n0_fs*n_0fs*n_1fs)\n"
     ]
    },
    {
     "name": "stdout",
     "output_type": "stream",
     "text": [
      "[50]\ttest-logloss:0.37884\ttest-mcc:0.98396\n",
      "[100]\ttest-logloss:0.23010\ttest-mcc:0.98477\n",
      "[150]\ttest-logloss:0.14865\ttest-mcc:0.98478\n",
      "[200]\ttest-logloss:0.10256\ttest-mcc:0.98490\n",
      "[250]\ttest-logloss:0.07484\ttest-mcc:0.98496\n",
      "[300]\ttest-logloss:0.05868\ttest-mcc:0.98500\n",
      "[350]\ttest-logloss:0.04891\ttest-mcc:0.98506\n",
      "[400]\ttest-logloss:0.04313\ttest-mcc:0.98509\n",
      "[450]\ttest-logloss:0.03978\ttest-mcc:0.98512\n",
      "[500]\ttest-logloss:0.03780\ttest-mcc:0.98518\n",
      "[550]\ttest-logloss:0.03667\ttest-mcc:0.98515\n",
      "[600]\ttest-logloss:0.03606\ttest-mcc:0.98515\n",
      "[650]\ttest-logloss:0.03572\ttest-mcc:0.98517\n",
      "[700]\ttest-logloss:0.03553\ttest-mcc:0.98519\n",
      "[750]\ttest-logloss:0.03545\ttest-mcc:0.98514\n",
      "[800]\ttest-logloss:0.03543\ttest-mcc:0.98515\n",
      "[850]\ttest-logloss:0.03545\ttest-mcc:0.98515\n",
      "[900]\ttest-logloss:0.03547\ttest-mcc:0.98515\n",
      "[950]\ttest-logloss:0.03550\ttest-mcc:0.98515\n",
      "[997]\ttest-logloss:0.03552\ttest-mcc:0.98514\n"
     ]
    },
    {
     "name": "stderr",
     "output_type": "stream",
     "text": [
      "[I 2024-08-19 20:15:09,915] Trial 71 finished with value: 0.9851823324587478 and parameters: {'alpha': 0.007570694182085823}. Best is trial 25 with value: 0.9851985037906217.\n"
     ]
    },
    {
     "name": "stdout",
     "output_type": "stream",
     "text": [
      "[0]\ttest-logloss:0.67939\ttest-mcc:0.00000\n"
     ]
    },
    {
     "name": "stderr",
     "output_type": "stream",
     "text": [
      "/tmp/ipykernel_18/2873463128.py:17: RuntimeWarning: invalid value encountered in scalar divide\n",
      "  mcc_fast = (n11f*n00f - n10f*n01f) / (n1_fs*n0_fs*n_0fs*n_1fs)\n",
      "[I 2024-08-19 20:15:20,893] Trial 72 pruned. Trial was pruned at iteration 9.\n"
     ]
    },
    {
     "name": "stdout",
     "output_type": "stream",
     "text": [
      "[0]\ttest-logloss:0.67938\ttest-mcc:0.00000\n"
     ]
    },
    {
     "name": "stderr",
     "output_type": "stream",
     "text": [
      "/tmp/ipykernel_18/2873463128.py:17: RuntimeWarning: invalid value encountered in scalar divide\n",
      "  mcc_fast = (n11f*n00f - n10f*n01f) / (n1_fs*n0_fs*n_0fs*n_1fs)\n",
      "[I 2024-08-19 20:15:33,040] Trial 73 pruned. Trial was pruned at iteration 9.\n"
     ]
    },
    {
     "name": "stdout",
     "output_type": "stream",
     "text": [
      "[0]\ttest-logloss:0.67938\ttest-mcc:0.00000\n"
     ]
    },
    {
     "name": "stderr",
     "output_type": "stream",
     "text": [
      "/tmp/ipykernel_18/2873463128.py:17: RuntimeWarning: invalid value encountered in scalar divide\n",
      "  mcc_fast = (n11f*n00f - n10f*n01f) / (n1_fs*n0_fs*n_0fs*n_1fs)\n",
      "[I 2024-08-19 20:15:44,505] Trial 74 pruned. Trial was pruned at iteration 9.\n"
     ]
    },
    {
     "name": "stdout",
     "output_type": "stream",
     "text": [
      "[0]\ttest-logloss:0.67938\ttest-mcc:0.00000\n"
     ]
    },
    {
     "name": "stderr",
     "output_type": "stream",
     "text": [
      "/tmp/ipykernel_18/2873463128.py:17: RuntimeWarning: invalid value encountered in scalar divide\n",
      "  mcc_fast = (n11f*n00f - n10f*n01f) / (n1_fs*n0_fs*n_0fs*n_1fs)\n",
      "[I 2024-08-19 20:15:56,068] Trial 75 pruned. Trial was pruned at iteration 9.\n"
     ]
    },
    {
     "name": "stdout",
     "output_type": "stream",
     "text": [
      "[0]\ttest-logloss:0.67938\ttest-mcc:0.00000\n"
     ]
    },
    {
     "name": "stderr",
     "output_type": "stream",
     "text": [
      "/tmp/ipykernel_18/2873463128.py:17: RuntimeWarning: invalid value encountered in scalar divide\n",
      "  mcc_fast = (n11f*n00f - n10f*n01f) / (n1_fs*n0_fs*n_0fs*n_1fs)\n",
      "[I 2024-08-19 20:16:07,865] Trial 76 pruned. Trial was pruned at iteration 9.\n"
     ]
    },
    {
     "name": "stdout",
     "output_type": "stream",
     "text": [
      "[0]\ttest-logloss:0.67938\ttest-mcc:0.00000\n"
     ]
    },
    {
     "name": "stderr",
     "output_type": "stream",
     "text": [
      "/tmp/ipykernel_18/2873463128.py:17: RuntimeWarning: invalid value encountered in scalar divide\n",
      "  mcc_fast = (n11f*n00f - n10f*n01f) / (n1_fs*n0_fs*n_0fs*n_1fs)\n"
     ]
    },
    {
     "name": "stdout",
     "output_type": "stream",
     "text": [
      "[50]\ttest-logloss:0.37892\ttest-mcc:0.98396\n",
      "[100]\ttest-logloss:0.23014\ttest-mcc:0.98476\n",
      "[150]\ttest-logloss:0.14862\ttest-mcc:0.98480\n",
      "[200]\ttest-logloss:0.10254\ttest-mcc:0.98489\n",
      "[250]\ttest-logloss:0.07483\ttest-mcc:0.98494\n",
      "[300]\ttest-logloss:0.05866\ttest-mcc:0.98500\n",
      "[350]\ttest-logloss:0.04890\ttest-mcc:0.98504\n",
      "[400]\ttest-logloss:0.04311\ttest-mcc:0.98508\n",
      "[450]\ttest-logloss:0.03977\ttest-mcc:0.98511\n",
      "[500]\ttest-logloss:0.03779\ttest-mcc:0.98514\n",
      "[550]\ttest-logloss:0.03666\ttest-mcc:0.98515\n",
      "[600]\ttest-logloss:0.03605\ttest-mcc:0.98515\n",
      "[650]\ttest-logloss:0.03571\ttest-mcc:0.98518\n",
      "[700]\ttest-logloss:0.03553\ttest-mcc:0.98515\n"
     ]
    },
    {
     "name": "stderr",
     "output_type": "stream",
     "text": [
      "[I 2024-08-19 20:24:33,041] Trial 77 pruned. Trial was pruned at iteration 729.\n"
     ]
    },
    {
     "name": "stdout",
     "output_type": "stream",
     "text": [
      "[0]\ttest-logloss:0.67938\ttest-mcc:0.00000\n"
     ]
    },
    {
     "name": "stderr",
     "output_type": "stream",
     "text": [
      "/tmp/ipykernel_18/2873463128.py:17: RuntimeWarning: invalid value encountered in scalar divide\n",
      "  mcc_fast = (n11f*n00f - n10f*n01f) / (n1_fs*n0_fs*n_0fs*n_1fs)\n",
      "[I 2024-08-19 20:24:44,399] Trial 78 pruned. Trial was pruned at iteration 9.\n"
     ]
    },
    {
     "name": "stdout",
     "output_type": "stream",
     "text": [
      "[0]\ttest-logloss:0.67938\ttest-mcc:0.00000\n"
     ]
    },
    {
     "name": "stderr",
     "output_type": "stream",
     "text": [
      "/tmp/ipykernel_18/2873463128.py:17: RuntimeWarning: invalid value encountered in scalar divide\n",
      "  mcc_fast = (n11f*n00f - n10f*n01f) / (n1_fs*n0_fs*n_0fs*n_1fs)\n"
     ]
    },
    {
     "name": "stdout",
     "output_type": "stream",
     "text": [
      "[50]\ttest-logloss:0.37919\ttest-mcc:0.98392\n",
      "[100]\ttest-logloss:0.23053\ttest-mcc:0.98475\n",
      "[150]\ttest-logloss:0.14884\ttest-mcc:0.98478\n",
      "[200]\ttest-logloss:0.10267\ttest-mcc:0.98489\n"
     ]
    },
    {
     "name": "stderr",
     "output_type": "stream",
     "text": [
      "[I 2024-08-19 20:27:25,790] Trial 79 pruned. Trial was pruned at iteration 243.\n"
     ]
    },
    {
     "name": "stdout",
     "output_type": "stream",
     "text": [
      "[0]\ttest-logloss:0.67938\ttest-mcc:0.00000\n"
     ]
    },
    {
     "name": "stderr",
     "output_type": "stream",
     "text": [
      "/tmp/ipykernel_18/2873463128.py:17: RuntimeWarning: invalid value encountered in scalar divide\n",
      "  mcc_fast = (n11f*n00f - n10f*n01f) / (n1_fs*n0_fs*n_0fs*n_1fs)\n"
     ]
    },
    {
     "name": "stdout",
     "output_type": "stream",
     "text": [
      "[50]\ttest-logloss:0.37919\ttest-mcc:0.98392\n",
      "[100]\ttest-logloss:0.23053\ttest-mcc:0.98475\n",
      "[150]\ttest-logloss:0.14884\ttest-mcc:0.98478\n",
      "[200]\ttest-logloss:0.10267\ttest-mcc:0.98489\n"
     ]
    },
    {
     "name": "stderr",
     "output_type": "stream",
     "text": [
      "[I 2024-08-19 20:30:07,356] Trial 80 pruned. Trial was pruned at iteration 243.\n"
     ]
    },
    {
     "name": "stdout",
     "output_type": "stream",
     "text": [
      "[0]\ttest-logloss:0.67938\ttest-mcc:0.00000\n"
     ]
    },
    {
     "name": "stderr",
     "output_type": "stream",
     "text": [
      "/tmp/ipykernel_18/2873463128.py:17: RuntimeWarning: invalid value encountered in scalar divide\n",
      "  mcc_fast = (n11f*n00f - n10f*n01f) / (n1_fs*n0_fs*n_0fs*n_1fs)\n",
      "[I 2024-08-19 20:30:19,797] Trial 81 pruned. Trial was pruned at iteration 9.\n"
     ]
    },
    {
     "name": "stdout",
     "output_type": "stream",
     "text": [
      "[0]\ttest-logloss:0.67938\ttest-mcc:0.00000\n"
     ]
    },
    {
     "name": "stderr",
     "output_type": "stream",
     "text": [
      "/tmp/ipykernel_18/2873463128.py:17: RuntimeWarning: invalid value encountered in scalar divide\n",
      "  mcc_fast = (n11f*n00f - n10f*n01f) / (n1_fs*n0_fs*n_0fs*n_1fs)\n",
      "[I 2024-08-19 20:30:31,248] Trial 82 pruned. Trial was pruned at iteration 9.\n"
     ]
    },
    {
     "name": "stdout",
     "output_type": "stream",
     "text": [
      "[0]\ttest-logloss:0.67938\ttest-mcc:0.00000\n"
     ]
    },
    {
     "name": "stderr",
     "output_type": "stream",
     "text": [
      "/tmp/ipykernel_18/2873463128.py:17: RuntimeWarning: invalid value encountered in scalar divide\n",
      "  mcc_fast = (n11f*n00f - n10f*n01f) / (n1_fs*n0_fs*n_0fs*n_1fs)\n",
      "[I 2024-08-19 20:30:42,621] Trial 83 pruned. Trial was pruned at iteration 9.\n"
     ]
    },
    {
     "name": "stdout",
     "output_type": "stream",
     "text": [
      "[0]\ttest-logloss:0.67938\ttest-mcc:0.00000\n"
     ]
    },
    {
     "name": "stderr",
     "output_type": "stream",
     "text": [
      "/tmp/ipykernel_18/2873463128.py:17: RuntimeWarning: invalid value encountered in scalar divide\n",
      "  mcc_fast = (n11f*n00f - n10f*n01f) / (n1_fs*n0_fs*n_0fs*n_1fs)\n",
      "[I 2024-08-19 20:30:54,904] Trial 84 pruned. Trial was pruned at iteration 9.\n"
     ]
    },
    {
     "name": "stdout",
     "output_type": "stream",
     "text": [
      "[0]\ttest-logloss:0.67938\ttest-mcc:0.00000\n"
     ]
    },
    {
     "name": "stderr",
     "output_type": "stream",
     "text": [
      "/tmp/ipykernel_18/2873463128.py:17: RuntimeWarning: invalid value encountered in scalar divide\n",
      "  mcc_fast = (n11f*n00f - n10f*n01f) / (n1_fs*n0_fs*n_0fs*n_1fs)\n",
      "[I 2024-08-19 20:31:18,161] Trial 85 pruned. Trial was pruned at iteration 27.\n"
     ]
    },
    {
     "name": "stdout",
     "output_type": "stream",
     "text": [
      "[0]\ttest-logloss:0.67938\ttest-mcc:0.00000\n"
     ]
    },
    {
     "name": "stderr",
     "output_type": "stream",
     "text": [
      "/tmp/ipykernel_18/2873463128.py:17: RuntimeWarning: invalid value encountered in scalar divide\n",
      "  mcc_fast = (n11f*n00f - n10f*n01f) / (n1_fs*n0_fs*n_0fs*n_1fs)\n",
      "[I 2024-08-19 20:31:29,873] Trial 86 pruned. Trial was pruned at iteration 9.\n"
     ]
    },
    {
     "name": "stdout",
     "output_type": "stream",
     "text": [
      "[0]\ttest-logloss:0.67938\ttest-mcc:0.00000\n"
     ]
    },
    {
     "name": "stderr",
     "output_type": "stream",
     "text": [
      "/tmp/ipykernel_18/2873463128.py:17: RuntimeWarning: invalid value encountered in scalar divide\n",
      "  mcc_fast = (n11f*n00f - n10f*n01f) / (n1_fs*n0_fs*n_0fs*n_1fs)\n",
      "[I 2024-08-19 20:31:41,377] Trial 87 pruned. Trial was pruned at iteration 9.\n"
     ]
    },
    {
     "name": "stdout",
     "output_type": "stream",
     "text": [
      "[0]\ttest-logloss:0.67938\ttest-mcc:0.00000\n"
     ]
    },
    {
     "name": "stderr",
     "output_type": "stream",
     "text": [
      "/tmp/ipykernel_18/2873463128.py:17: RuntimeWarning: invalid value encountered in scalar divide\n",
      "  mcc_fast = (n11f*n00f - n10f*n01f) / (n1_fs*n0_fs*n_0fs*n_1fs)\n",
      "[I 2024-08-19 20:31:52,691] Trial 88 pruned. Trial was pruned at iteration 9.\n"
     ]
    },
    {
     "name": "stdout",
     "output_type": "stream",
     "text": [
      "[0]\ttest-logloss:0.67938\ttest-mcc:0.00000\n"
     ]
    },
    {
     "name": "stderr",
     "output_type": "stream",
     "text": [
      "/tmp/ipykernel_18/2873463128.py:17: RuntimeWarning: invalid value encountered in scalar divide\n",
      "  mcc_fast = (n11f*n00f - n10f*n01f) / (n1_fs*n0_fs*n_0fs*n_1fs)\n",
      "[I 2024-08-19 20:32:04,076] Trial 89 pruned. Trial was pruned at iteration 9.\n"
     ]
    },
    {
     "name": "stdout",
     "output_type": "stream",
     "text": [
      "[0]\ttest-logloss:0.67938\ttest-mcc:0.00000\n"
     ]
    },
    {
     "name": "stderr",
     "output_type": "stream",
     "text": [
      "/tmp/ipykernel_18/2873463128.py:17: RuntimeWarning: invalid value encountered in scalar divide\n",
      "  mcc_fast = (n11f*n00f - n10f*n01f) / (n1_fs*n0_fs*n_0fs*n_1fs)\n"
     ]
    },
    {
     "name": "stdout",
     "output_type": "stream",
     "text": [
      "[50]\ttest-logloss:0.37914\ttest-mcc:0.98390\n",
      "[100]\ttest-logloss:0.23025\ttest-mcc:0.98475\n",
      "[150]\ttest-logloss:0.14868\ttest-mcc:0.98477\n",
      "[200]\ttest-logloss:0.10258\ttest-mcc:0.98491\n"
     ]
    },
    {
     "name": "stderr",
     "output_type": "stream",
     "text": [
      "[I 2024-08-19 20:34:45,342] Trial 90 pruned. Trial was pruned at iteration 243.\n"
     ]
    },
    {
     "name": "stdout",
     "output_type": "stream",
     "text": [
      "[0]\ttest-logloss:0.67938\ttest-mcc:0.00000\n"
     ]
    },
    {
     "name": "stderr",
     "output_type": "stream",
     "text": [
      "/tmp/ipykernel_18/2873463128.py:17: RuntimeWarning: invalid value encountered in scalar divide\n",
      "  mcc_fast = (n11f*n00f - n10f*n01f) / (n1_fs*n0_fs*n_0fs*n_1fs)\n",
      "[I 2024-08-19 20:34:56,920] Trial 91 pruned. Trial was pruned at iteration 9.\n"
     ]
    },
    {
     "name": "stdout",
     "output_type": "stream",
     "text": [
      "[0]\ttest-logloss:0.67938\ttest-mcc:0.00000\n"
     ]
    },
    {
     "name": "stderr",
     "output_type": "stream",
     "text": [
      "/tmp/ipykernel_18/2873463128.py:17: RuntimeWarning: invalid value encountered in scalar divide\n",
      "  mcc_fast = (n11f*n00f - n10f*n01f) / (n1_fs*n0_fs*n_0fs*n_1fs)\n"
     ]
    },
    {
     "name": "stdout",
     "output_type": "stream",
     "text": [
      "[50]\ttest-logloss:0.37885\ttest-mcc:0.98396\n",
      "[100]\ttest-logloss:0.23011\ttest-mcc:0.98476\n",
      "[150]\ttest-logloss:0.14860\ttest-mcc:0.98479\n",
      "[200]\ttest-logloss:0.10253\ttest-mcc:0.98490\n",
      "[250]\ttest-logloss:0.07483\ttest-mcc:0.98496\n",
      "[300]\ttest-logloss:0.05866\ttest-mcc:0.98500\n",
      "[350]\ttest-logloss:0.04890\ttest-mcc:0.98504\n",
      "[400]\ttest-logloss:0.04312\ttest-mcc:0.98507\n",
      "[450]\ttest-logloss:0.03977\ttest-mcc:0.98511\n",
      "[500]\ttest-logloss:0.03779\ttest-mcc:0.98516\n",
      "[550]\ttest-logloss:0.03666\ttest-mcc:0.98516\n",
      "[600]\ttest-logloss:0.03605\ttest-mcc:0.98516\n",
      "[650]\ttest-logloss:0.03571\ttest-mcc:0.98519\n",
      "[700]\ttest-logloss:0.03553\ttest-mcc:0.98516\n"
     ]
    },
    {
     "name": "stderr",
     "output_type": "stream",
     "text": [
      "[I 2024-08-19 20:43:20,482] Trial 92 pruned. Trial was pruned at iteration 729.\n"
     ]
    },
    {
     "name": "stdout",
     "output_type": "stream",
     "text": [
      "[0]\ttest-logloss:0.67938\ttest-mcc:0.00000\n"
     ]
    },
    {
     "name": "stderr",
     "output_type": "stream",
     "text": [
      "/tmp/ipykernel_18/2873463128.py:17: RuntimeWarning: invalid value encountered in scalar divide\n",
      "  mcc_fast = (n11f*n00f - n10f*n01f) / (n1_fs*n0_fs*n_0fs*n_1fs)\n"
     ]
    },
    {
     "name": "stdout",
     "output_type": "stream",
     "text": [
      "[50]\ttest-logloss:0.37907\ttest-mcc:0.98393\n",
      "[100]\ttest-logloss:0.23041\ttest-mcc:0.98476\n",
      "[150]\ttest-logloss:0.14877\ttest-mcc:0.98478\n",
      "[200]\ttest-logloss:0.10263\ttest-mcc:0.98491\n",
      "[250]\ttest-logloss:0.07489\ttest-mcc:0.98496\n",
      "[300]\ttest-logloss:0.05869\ttest-mcc:0.98496\n",
      "[350]\ttest-logloss:0.04891\ttest-mcc:0.98502\n",
      "[400]\ttest-logloss:0.04312\ttest-mcc:0.98509\n",
      "[450]\ttest-logloss:0.03977\ttest-mcc:0.98511\n",
      "[500]\ttest-logloss:0.03779\ttest-mcc:0.98518\n",
      "[550]\ttest-logloss:0.03667\ttest-mcc:0.98517\n",
      "[600]\ttest-logloss:0.03606\ttest-mcc:0.98517\n",
      "[650]\ttest-logloss:0.03572\ttest-mcc:0.98515\n",
      "[700]\ttest-logloss:0.03553\ttest-mcc:0.98515\n"
     ]
    },
    {
     "name": "stderr",
     "output_type": "stream",
     "text": [
      "[I 2024-08-19 20:51:48,344] Trial 93 pruned. Trial was pruned at iteration 729.\n"
     ]
    },
    {
     "name": "stdout",
     "output_type": "stream",
     "text": [
      "[0]\ttest-logloss:0.67938\ttest-mcc:0.00000\n"
     ]
    },
    {
     "name": "stderr",
     "output_type": "stream",
     "text": [
      "/tmp/ipykernel_18/2873463128.py:17: RuntimeWarning: invalid value encountered in scalar divide\n",
      "  mcc_fast = (n11f*n00f - n10f*n01f) / (n1_fs*n0_fs*n_0fs*n_1fs)\n",
      "[I 2024-08-19 20:51:59,772] Trial 94 pruned. Trial was pruned at iteration 9.\n"
     ]
    },
    {
     "name": "stdout",
     "output_type": "stream",
     "text": [
      "[0]\ttest-logloss:0.67938\ttest-mcc:0.00000\n"
     ]
    },
    {
     "name": "stderr",
     "output_type": "stream",
     "text": [
      "/tmp/ipykernel_18/2873463128.py:17: RuntimeWarning: invalid value encountered in scalar divide\n",
      "  mcc_fast = (n11f*n00f - n10f*n01f) / (n1_fs*n0_fs*n_0fs*n_1fs)\n"
     ]
    },
    {
     "name": "stdout",
     "output_type": "stream",
     "text": [
      "[50]\ttest-logloss:0.37919\ttest-mcc:0.98392\n"
     ]
    },
    {
     "name": "stderr",
     "output_type": "stream",
     "text": [
      "[I 2024-08-19 20:52:58,326] Trial 95 pruned. Trial was pruned at iteration 81.\n"
     ]
    },
    {
     "name": "stdout",
     "output_type": "stream",
     "text": [
      "[0]\ttest-logloss:0.67938\ttest-mcc:0.00000\n"
     ]
    },
    {
     "name": "stderr",
     "output_type": "stream",
     "text": [
      "/tmp/ipykernel_18/2873463128.py:17: RuntimeWarning: invalid value encountered in scalar divide\n",
      "  mcc_fast = (n11f*n00f - n10f*n01f) / (n1_fs*n0_fs*n_0fs*n_1fs)\n"
     ]
    },
    {
     "name": "stdout",
     "output_type": "stream",
     "text": [
      "[50]\ttest-logloss:0.37919\ttest-mcc:0.98392\n"
     ]
    },
    {
     "name": "stderr",
     "output_type": "stream",
     "text": [
      "[I 2024-08-19 20:54:01,734] Trial 96 pruned. Trial was pruned at iteration 81.\n"
     ]
    },
    {
     "name": "stdout",
     "output_type": "stream",
     "text": [
      "[0]\ttest-logloss:0.67940\ttest-mcc:0.00000\n"
     ]
    },
    {
     "name": "stderr",
     "output_type": "stream",
     "text": [
      "/tmp/ipykernel_18/2873463128.py:17: RuntimeWarning: invalid value encountered in scalar divide\n",
      "  mcc_fast = (n11f*n00f - n10f*n01f) / (n1_fs*n0_fs*n_0fs*n_1fs)\n",
      "[I 2024-08-19 20:54:12,412] Trial 97 pruned. Trial was pruned at iteration 9.\n"
     ]
    },
    {
     "name": "stdout",
     "output_type": "stream",
     "text": [
      "[0]\ttest-logloss:0.67938\ttest-mcc:0.00000\n"
     ]
    },
    {
     "name": "stderr",
     "output_type": "stream",
     "text": [
      "/tmp/ipykernel_18/2873463128.py:17: RuntimeWarning: invalid value encountered in scalar divide\n",
      "  mcc_fast = (n11f*n00f - n10f*n01f) / (n1_fs*n0_fs*n_0fs*n_1fs)\n",
      "[I 2024-08-19 20:54:24,537] Trial 98 pruned. Trial was pruned at iteration 9.\n"
     ]
    },
    {
     "name": "stdout",
     "output_type": "stream",
     "text": [
      "[0]\ttest-logloss:0.67938\ttest-mcc:0.00000\n"
     ]
    },
    {
     "name": "stderr",
     "output_type": "stream",
     "text": [
      "/tmp/ipykernel_18/2873463128.py:17: RuntimeWarning: invalid value encountered in scalar divide\n",
      "  mcc_fast = (n11f*n00f - n10f*n01f) / (n1_fs*n0_fs*n_0fs*n_1fs)\n"
     ]
    },
    {
     "name": "stdout",
     "output_type": "stream",
     "text": [
      "[50]\ttest-logloss:0.37907\ttest-mcc:0.98393\n",
      "[100]\ttest-logloss:0.23024\ttest-mcc:0.98474\n",
      "[150]\ttest-logloss:0.14869\ttest-mcc:0.98477\n",
      "[200]\ttest-logloss:0.10258\ttest-mcc:0.98491\n"
     ]
    },
    {
     "name": "stderr",
     "output_type": "stream",
     "text": [
      "[I 2024-08-19 20:57:08,803] Trial 99 pruned. Trial was pruned at iteration 243.\n"
     ]
    }
   ],
   "source": [
    "study = optuna.create_study(study_name=study_name, storage=storage, direction='maximize', load_if_exists=True, sampler=sampler, pruner=pruner)\n",
    "study.optimize(objective, n_trials=100)"
   ]
  },
  {
   "cell_type": "markdown",
   "id": "67eeafa3",
   "metadata": {},
   "source": [
    "# 5. Saving sampler and pruner\n",
    "In order to be able to easily pick up current study next time, we have to save our sampler and pruner. [Learn more](https://optuna.readthedocs.io/en/stable/tutorial/20_recipes/001_rdb.html#resume-study)."
   ]
  },
  {
   "cell_type": "code",
   "execution_count": 17,
   "id": "804fa22b",
   "metadata": {
    "editable": false,
    "execution": {
     "iopub.execute_input": "2024-08-19T20:57:08.904207Z",
     "iopub.status.busy": "2024-08-19T20:57:08.903835Z",
     "iopub.status.idle": "2024-08-19T20:57:08.912283Z",
     "shell.execute_reply": "2024-08-19T20:57:08.911157Z"
    },
    "papermill": {
     "duration": 0.057839,
     "end_time": "2024-08-19T20:57:08.914546",
     "exception": false,
     "start_time": "2024-08-19T20:57:08.856707",
     "status": "completed"
    },
    "tags": []
   },
   "outputs": [
    {
     "name": "stdout",
     "output_type": "stream",
     "text": [
      "Sampler saved!\n",
      "Pruner saved!\n"
     ]
    }
   ],
   "source": [
    "with open(\"sampler.pkl\", \"wb\") as fout:\n",
    "    pickle.dump(study.sampler, fout)\n",
    "    print(\"Sampler saved!\")\n",
    "    \n",
    "with open(\"pruner.pkl\", \"wb\") as fout:\n",
    "    pickle.dump(study.pruner, fout)\n",
    "    print(\"Pruner saved!\")"
   ]
  },
  {
   "cell_type": "code",
   "execution_count": 20,
   "id": "640ec730",
   "metadata": {
    "editable": false,
    "execution": {
     "iopub.execute_input": "2024-08-19T20:57:10.656663Z",
     "iopub.status.busy": "2024-08-19T20:57:10.655753Z",
     "iopub.status.idle": "2024-08-19T20:57:10.725095Z",
     "shell.execute_reply": "2024-08-19T20:57:10.723655Z"
    },
    "papermill": {
     "duration": 0.120601,
     "end_time": "2024-08-19T20:57:10.727687",
     "exception": false,
     "start_time": "2024-08-19T20:57:10.607086",
     "status": "completed"
    },
    "tags": []
   },
   "outputs": [
    {
     "name": "stdout",
     "output_type": "stream",
     "text": [
      "Best score: 0.9851985037906217\n",
      "{'alpha': 0.06488320357425029}\n"
     ]
    }
   ],
   "source": [
    "print(f\"Best score: {study.best_value}\")\n",
    "print(study.best_params)"
   ]
  }
 ],
 "metadata": {
  "kaggle": {
   "accelerator": "none",
   "dataSources": [
    {
     "sourceId": 191633562,
     "sourceType": "kernelVersion"
    }
   ],
   "dockerImageVersionId": 30746,
   "isGpuEnabled": false,
   "isInternetEnabled": true,
   "language": "python",
   "sourceType": "notebook"
  },
  "kernelspec": {
   "display_name": "Python 3",
   "language": "python",
   "name": "python3"
  },
  "language_info": {
   "codemirror_mode": {
    "name": "ipython",
    "version": 3
   },
   "file_extension": ".py",
   "mimetype": "text/x-python",
   "name": "python",
   "nbconvert_exporter": "python",
   "pygments_lexer": "ipython3",
   "version": "3.10.13"
  },
  "papermill": {
   "default_parameters": {},
   "duration": 12284.96448,
   "end_time": "2024-08-19T20:57:11.818660",
   "environment_variables": {},
   "exception": null,
   "input_path": "__notebook__.ipynb",
   "output_path": "__notebook__.ipynb",
   "parameters": {},
   "start_time": "2024-08-19T17:32:26.854180",
   "version": "2.5.0"
  }
 },
 "nbformat": 4,
 "nbformat_minor": 5
}
